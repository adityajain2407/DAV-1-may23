{
  "nbformat": 4,
  "nbformat_minor": 0,
  "metadata": {
    "colab": {
      "provenance": [],
      "authorship_tag": "ABX9TyO5xBtVx9lz/pKYZOlpyWNo",
      "include_colab_link": true
    },
    "kernelspec": {
      "name": "python3",
      "display_name": "Python 3"
    },
    "language_info": {
      "name": "python"
    }
  },
  "cells": [
    {
      "cell_type": "markdown",
      "metadata": {
        "id": "view-in-github",
        "colab_type": "text"
      },
      "source": [
        "<a href=\"https://colab.research.google.com/github/adityajain2407/DAV-1-may23/blob/main/may23_numpy_2.ipynb\" target=\"_parent\"><img src=\"https://colab.research.google.com/assets/colab-badge.svg\" alt=\"Open In Colab\"/></a>"
      ]
    },
    {
      "cell_type": "code",
      "execution_count": 1,
      "metadata": {
        "id": "d288AmL8y4hw"
      },
      "outputs": [],
      "source": [
        "import numpy as np"
      ]
    },
    {
      "cell_type": "code",
      "source": [
        "data = np.loadtxt(\"fit.txt\", dtype = \"str\")"
      ],
      "metadata": {
        "id": "NiRTfOaxzY0n"
      },
      "execution_count": 2,
      "outputs": []
    },
    {
      "cell_type": "code",
      "source": [
        "print(data)"
      ],
      "metadata": {
        "colab": {
          "base_uri": "https://localhost:8080/"
        },
        "id": "XWgoScy2zmkM",
        "outputId": "8614bb69-f1f8-494b-8643-13c6857e62ea"
      },
      "execution_count": 3,
      "outputs": [
        {
          "output_type": "stream",
          "name": "stdout",
          "text": [
            "[['06-10-2017' '5464' 'Neutral' '181' '5' 'Inactive']\n",
            " ['07-10-2017' '6041' 'Sad' '197' '8' 'Inactive']\n",
            " ['08-10-2017' '25' 'Sad' '0' '5' 'Inactive']\n",
            " ['09-10-2017' '5461' 'Sad' '174' '4' 'Inactive']\n",
            " ['10-10-2017' '6915' 'Neutral' '223' '5' 'Active']\n",
            " ['11-10-2017' '4545' 'Sad' '149' '6' 'Inactive']\n",
            " ['12-10-2017' '4340' 'Sad' '140' '6' 'Inactive']\n",
            " ['13-10-2017' '1230' 'Sad' '38' '7' 'Inactive']\n",
            " ['14-10-2017' '61' 'Sad' '1' '5' 'Inactive']\n",
            " ['15-10-2017' '1258' 'Sad' '40' '6' 'Inactive']\n",
            " ['16-10-2017' '3148' 'Sad' '101' '8' 'Inactive']\n",
            " ['17-10-2017' '4687' 'Sad' '152' '5' 'Inactive']\n",
            " ['18-10-2017' '4732' 'Happy' '150' '6' 'Active']\n",
            " ['19-10-2017' '3519' 'Sad' '113' '7' 'Inactive']\n",
            " ['20-10-2017' '1580' 'Sad' '49' '5' 'Inactive']\n",
            " ['21-10-2017' '2822' 'Sad' '86' '6' 'Inactive']\n",
            " ['22-10-2017' '181' 'Sad' '6' '8' 'Inactive']\n",
            " ['23-10-2017' '3158' 'Neutral' '99' '5' 'Inactive']\n",
            " ['24-10-2017' '4383' 'Neutral' '143' '4' 'Inactive']\n",
            " ['25-10-2017' '3881' 'Neutral' '125' '5' 'Inactive']\n",
            " ['26-10-2017' '4037' 'Neutral' '129' '6' 'Inactive']\n",
            " ['27-10-2017' '202' 'Neutral' '6' '8' 'Inactive']\n",
            " ['28-10-2017' '292' 'Neutral' '9' '5' 'Inactive']\n",
            " ['29-10-2017' '330' 'Happy' '10' '6' 'Inactive']\n",
            " ['30-10-2017' '2209' 'Neutral' '72' '5' 'Inactive']\n",
            " ['31-10-2017' '4550' 'Happy' '150' '8' 'Active']\n",
            " ['01-11-2017' '4435' 'Happy' '141' '5' 'Inactive']\n",
            " ['02-11-2017' '4779' 'Happy' '156' '4' 'Inactive']\n",
            " ['03-11-2017' '1831' 'Happy' '57' '5' 'Inactive']\n",
            " ['04-11-2017' '2255' 'Happy' '72' '4' 'Inactive']\n",
            " ['05-11-2017' '539' 'Happy' '17' '5' 'Active']\n",
            " ['06-11-2017' '5464' 'Happy' '181' '4' 'Inactive']\n",
            " ['07-11-2017' '6041' 'Neutral' '197' '3' 'Inactive']\n",
            " ['08-11-2017' '4068' 'Happy' '131' '2' 'Inactive']\n",
            " ['09-11-2017' '4683' 'Happy' '154' '9' 'Inactive']\n",
            " ['10-11-2017' '4033' 'Happy' '137' '5' 'Inactive']\n",
            " ['11-11-2017' '6314' 'Happy' '193' '6' 'Active']\n",
            " ['12-11-2017' '614' 'Happy' '19' '4' 'Active']\n",
            " ['13-11-2017' '3149' 'Happy' '101' '5' 'Active']\n",
            " ['14-11-2017' '4005' 'Happy' '139' '8' 'Active']\n",
            " ['15-11-2017' '4880' 'Happy' '164' '4' 'Active']\n",
            " ['16-11-2017' '4136' 'Happy' '137' '5' 'Active']\n",
            " ['17-11-2017' '705' 'Happy' '22' '6' 'Active']\n",
            " ['18-11-2017' '570' 'Neutral' '17' '5' 'Active']\n",
            " ['19-11-2017' '269' 'Happy' '9' '6' 'Active']\n",
            " ['20-11-2017' '4275' 'Happy' '145' '5' 'Inactive']\n",
            " ['21-11-2017' '5999' 'Happy' '192' '6' 'Inactive']\n",
            " ['22-11-2017' '4421' 'Happy' '146' '5' 'Inactive']\n",
            " ['23-11-2017' '6930' 'Happy' '234' '6' 'Inactive']\n",
            " ['24-11-2017' '5195' 'Happy' '167' '5' 'Inactive']\n",
            " ['25-11-2017' '546' 'Happy' '16' '6' 'Inactive']\n",
            " ['26-11-2017' '493' 'Happy' '17' '7' 'Active']\n",
            " ['27-11-2017' '995' 'Happy' '32' '6' 'Active']\n",
            " ['28-11-2017' '1163' 'Neutral' '35' '7' 'Active']\n",
            " ['29-11-2017' '6676' 'Sad' '220' '6' 'Active']\n",
            " ['30-11-2017' '3608' 'Happy' '116' '5' 'Active']\n",
            " ['01-12-2017' '774' 'Happy' '23' '6' 'Active']\n",
            " ['02-12-2017' '1421' 'Happy' '44' '7' 'Active']\n",
            " ['03-12-2017' '4064' 'Happy' '131' '8' 'Active']\n",
            " ['04-12-2017' '2725' 'Happy' '86' '8' 'Active']\n",
            " ['05-12-2017' '5934' 'Happy' '194' '7' 'Active']\n",
            " ['06-12-2017' '1867' 'Happy' '60' '8' 'Active']\n",
            " ['07-12-2017' '3721' 'Sad' '121' '5' 'Active']\n",
            " ['08-12-2017' '2374' 'Neutral' '76' '4' 'Inactive']\n",
            " ['09-12-2017' '2909' 'Neutral' '93' '3' 'Active']\n",
            " ['10-12-2017' '1648' 'Sad' '53' '3' 'Active']\n",
            " ['11-12-2017' '799' 'Sad' '25' '4' 'Inactive']\n",
            " ['12-12-2017' '7102' 'Neutral' '227' '5' 'Active']\n",
            " ['13-12-2017' '3941' 'Neutral' '125' '5' 'Active']\n",
            " ['14-12-2017' '7422' 'Happy' '243' '5' 'Active']\n",
            " ['15-12-2017' '437' 'Neutral' '14' '3' 'Active']\n",
            " ['16-12-2017' '1231' 'Neutral' '39' '4' 'Active']\n",
            " ['17-12-2017' '1696' 'Sad' '55' '4' 'Inactive']\n",
            " ['18-12-2017' '4921' 'Neutral' '158' '5' 'Active']\n",
            " ['19-12-2017' '221' 'Sad' '7' '5' 'Active']\n",
            " ['20-12-2017' '6500' 'Neutral' '213' '5' 'Active']\n",
            " ['21-12-2017' '3575' 'Neutral' '116' '5' 'Active']\n",
            " ['22-12-2017' '4061' 'Sad' '129' '5' 'Inactive']\n",
            " ['23-12-2017' '651' 'Sad' '21' '5' 'Inactive']\n",
            " ['24-12-2017' '753' 'Sad' '28' '4' 'Inactive']\n",
            " ['25-12-2017' '518' 'Sad' '16' '3' 'Inactive']\n",
            " ['26-12-2017' '5537' 'Happy' '180' '4' 'Active']\n",
            " ['27-12-2017' '4108' 'Neutral' '138' '5' 'Active']\n",
            " ['28-12-2017' '5376' 'Happy' '176' '5' 'Active']\n",
            " ['29-12-2017' '3066' 'Neutral' '99' '4' 'Active']\n",
            " ['30-12-2017' '177' 'Sad' '5' '5' 'Inactive']\n",
            " ['31-12-2017' '36' 'Sad' '1' '3' 'Inactive']\n",
            " ['01-01-2018' '299' 'Sad' '10' '3' 'Inactive']\n",
            " ['02-01-2018' '1447' 'Neutral' '47' '3' 'Inactive']\n",
            " ['03-01-2018' '2599' 'Neutral' '84' '2' 'Inactive']\n",
            " ['04-01-2018' '702' 'Sad' '23' '3' 'Inactive']\n",
            " ['05-01-2018' '133' 'Sad' '4' '2' 'Inactive']\n",
            " ['06-01-2018' '153' 'Happy' '0' '8' 'Inactive']\n",
            " ['07-01-2018' '500' 'Neutral' '0' '5' 'Active']\n",
            " ['08-01-2018' '2127' 'Neutral' '0' '5' 'Inactive']\n",
            " ['09-01-2018' '2203' 'Happy' '0' '5' 'Active']]\n"
          ]
        }
      ]
    },
    {
      "cell_type": "code",
      "source": [
        "data.ndim"
      ],
      "metadata": {
        "colab": {
          "base_uri": "https://localhost:8080/"
        },
        "id": "LsQGQqy4zqyf",
        "outputId": "a9f614c8-a41b-4f5f-97f9-13c5a7ec0857"
      },
      "execution_count": 4,
      "outputs": [
        {
          "output_type": "execute_result",
          "data": {
            "text/plain": [
              "2"
            ]
          },
          "metadata": {},
          "execution_count": 4
        }
      ]
    },
    {
      "cell_type": "code",
      "source": [
        "data.shape"
      ],
      "metadata": {
        "colab": {
          "base_uri": "https://localhost:8080/"
        },
        "id": "Fm7U4c-_0RI7",
        "outputId": "d0c34998-7421-4f10-ea7a-b7031b139af4"
      },
      "execution_count": 5,
      "outputs": [
        {
          "output_type": "execute_result",
          "data": {
            "text/plain": [
              "(96, 6)"
            ]
          },
          "metadata": {},
          "execution_count": 5
        }
      ]
    },
    {
      "cell_type": "code",
      "source": [
        "data[0]"
      ],
      "metadata": {
        "colab": {
          "base_uri": "https://localhost:8080/"
        },
        "id": "_-sJLKn10R3g",
        "outputId": "ddedf8c4-4be1-40f7-a694-179d652aeb2f"
      },
      "execution_count": 6,
      "outputs": [
        {
          "output_type": "execute_result",
          "data": {
            "text/plain": [
              "array(['06-10-2017', '5464', 'Neutral', '181', '5', 'Inactive'],\n",
              "      dtype='<U10')"
            ]
          },
          "metadata": {},
          "execution_count": 6
        }
      ]
    },
    {
      "cell_type": "code",
      "source": [
        "print(data[0])"
      ],
      "metadata": {
        "colab": {
          "base_uri": "https://localhost:8080/"
        },
        "id": "1FyudbqW0dMl",
        "outputId": "0fd4bb13-fba3-4e76-ebf1-0a74eca256dc"
      },
      "execution_count": 7,
      "outputs": [
        {
          "output_type": "stream",
          "name": "stdout",
          "text": [
            "['06-10-2017' '5464' 'Neutral' '181' '5' 'Inactive']\n"
          ]
        }
      ]
    },
    {
      "cell_type": "code",
      "source": [
        "print(data[:5])"
      ],
      "metadata": {
        "colab": {
          "base_uri": "https://localhost:8080/"
        },
        "id": "EmBREXT40sp0",
        "outputId": "f7871973-aef4-48d1-a0a4-35992fca6bf8"
      },
      "execution_count": 8,
      "outputs": [
        {
          "output_type": "stream",
          "name": "stdout",
          "text": [
            "[['06-10-2017' '5464' 'Neutral' '181' '5' 'Inactive']\n",
            " ['07-10-2017' '6041' 'Sad' '197' '8' 'Inactive']\n",
            " ['08-10-2017' '25' 'Sad' '0' '5' 'Inactive']\n",
            " ['09-10-2017' '5461' 'Sad' '174' '4' 'Inactive']\n",
            " ['10-10-2017' '6915' 'Neutral' '223' '5' 'Active']]\n"
          ]
        }
      ]
    },
    {
      "cell_type": "code",
      "source": [
        "data_t = data.T #Transpose\n",
        "print(data_t)"
      ],
      "metadata": {
        "colab": {
          "base_uri": "https://localhost:8080/"
        },
        "id": "cmUlyjqh0y2t",
        "outputId": "e2c98438-cf79-4010-9227-43b6cb682efd"
      },
      "execution_count": 9,
      "outputs": [
        {
          "output_type": "stream",
          "name": "stdout",
          "text": [
            "[['06-10-2017' '07-10-2017' '08-10-2017' '09-10-2017' '10-10-2017'\n",
            "  '11-10-2017' '12-10-2017' '13-10-2017' '14-10-2017' '15-10-2017'\n",
            "  '16-10-2017' '17-10-2017' '18-10-2017' '19-10-2017' '20-10-2017'\n",
            "  '21-10-2017' '22-10-2017' '23-10-2017' '24-10-2017' '25-10-2017'\n",
            "  '26-10-2017' '27-10-2017' '28-10-2017' '29-10-2017' '30-10-2017'\n",
            "  '31-10-2017' '01-11-2017' '02-11-2017' '03-11-2017' '04-11-2017'\n",
            "  '05-11-2017' '06-11-2017' '07-11-2017' '08-11-2017' '09-11-2017'\n",
            "  '10-11-2017' '11-11-2017' '12-11-2017' '13-11-2017' '14-11-2017'\n",
            "  '15-11-2017' '16-11-2017' '17-11-2017' '18-11-2017' '19-11-2017'\n",
            "  '20-11-2017' '21-11-2017' '22-11-2017' '23-11-2017' '24-11-2017'\n",
            "  '25-11-2017' '26-11-2017' '27-11-2017' '28-11-2017' '29-11-2017'\n",
            "  '30-11-2017' '01-12-2017' '02-12-2017' '03-12-2017' '04-12-2017'\n",
            "  '05-12-2017' '06-12-2017' '07-12-2017' '08-12-2017' '09-12-2017'\n",
            "  '10-12-2017' '11-12-2017' '12-12-2017' '13-12-2017' '14-12-2017'\n",
            "  '15-12-2017' '16-12-2017' '17-12-2017' '18-12-2017' '19-12-2017'\n",
            "  '20-12-2017' '21-12-2017' '22-12-2017' '23-12-2017' '24-12-2017'\n",
            "  '25-12-2017' '26-12-2017' '27-12-2017' '28-12-2017' '29-12-2017'\n",
            "  '30-12-2017' '31-12-2017' '01-01-2018' '02-01-2018' '03-01-2018'\n",
            "  '04-01-2018' '05-01-2018' '06-01-2018' '07-01-2018' '08-01-2018'\n",
            "  '09-01-2018']\n",
            " ['5464' '6041' '25' '5461' '6915' '4545' '4340' '1230' '61' '1258'\n",
            "  '3148' '4687' '4732' '3519' '1580' '2822' '181' '3158' '4383' '3881'\n",
            "  '4037' '202' '292' '330' '2209' '4550' '4435' '4779' '1831' '2255'\n",
            "  '539' '5464' '6041' '4068' '4683' '4033' '6314' '614' '3149' '4005'\n",
            "  '4880' '4136' '705' '570' '269' '4275' '5999' '4421' '6930' '5195'\n",
            "  '546' '493' '995' '1163' '6676' '3608' '774' '1421' '4064' '2725'\n",
            "  '5934' '1867' '3721' '2374' '2909' '1648' '799' '7102' '3941' '7422'\n",
            "  '437' '1231' '1696' '4921' '221' '6500' '3575' '4061' '651' '753' '518'\n",
            "  '5537' '4108' '5376' '3066' '177' '36' '299' '1447' '2599' '702' '133'\n",
            "  '153' '500' '2127' '2203']\n",
            " ['Neutral' 'Sad' 'Sad' 'Sad' 'Neutral' 'Sad' 'Sad' 'Sad' 'Sad' 'Sad'\n",
            "  'Sad' 'Sad' 'Happy' 'Sad' 'Sad' 'Sad' 'Sad' 'Neutral' 'Neutral'\n",
            "  'Neutral' 'Neutral' 'Neutral' 'Neutral' 'Happy' 'Neutral' 'Happy'\n",
            "  'Happy' 'Happy' 'Happy' 'Happy' 'Happy' 'Happy' 'Neutral' 'Happy'\n",
            "  'Happy' 'Happy' 'Happy' 'Happy' 'Happy' 'Happy' 'Happy' 'Happy' 'Happy'\n",
            "  'Neutral' 'Happy' 'Happy' 'Happy' 'Happy' 'Happy' 'Happy' 'Happy'\n",
            "  'Happy' 'Happy' 'Neutral' 'Sad' 'Happy' 'Happy' 'Happy' 'Happy' 'Happy'\n",
            "  'Happy' 'Happy' 'Sad' 'Neutral' 'Neutral' 'Sad' 'Sad' 'Neutral'\n",
            "  'Neutral' 'Happy' 'Neutral' 'Neutral' 'Sad' 'Neutral' 'Sad' 'Neutral'\n",
            "  'Neutral' 'Sad' 'Sad' 'Sad' 'Sad' 'Happy' 'Neutral' 'Happy' 'Neutral'\n",
            "  'Sad' 'Sad' 'Sad' 'Neutral' 'Neutral' 'Sad' 'Sad' 'Happy' 'Neutral'\n",
            "  'Neutral' 'Happy']\n",
            " ['181' '197' '0' '174' '223' '149' '140' '38' '1' '40' '101' '152' '150'\n",
            "  '113' '49' '86' '6' '99' '143' '125' '129' '6' '9' '10' '72' '150'\n",
            "  '141' '156' '57' '72' '17' '181' '197' '131' '154' '137' '193' '19'\n",
            "  '101' '139' '164' '137' '22' '17' '9' '145' '192' '146' '234' '167'\n",
            "  '16' '17' '32' '35' '220' '116' '23' '44' '131' '86' '194' '60' '121'\n",
            "  '76' '93' '53' '25' '227' '125' '243' '14' '39' '55' '158' '7' '213'\n",
            "  '116' '129' '21' '28' '16' '180' '138' '176' '99' '5' '1' '10' '47'\n",
            "  '84' '23' '4' '0' '0' '0' '0']\n",
            " ['5' '8' '5' '4' '5' '6' '6' '7' '5' '6' '8' '5' '6' '7' '5' '6' '8' '5'\n",
            "  '4' '5' '6' '8' '5' '6' '5' '8' '5' '4' '5' '4' '5' '4' '3' '2' '9' '5'\n",
            "  '6' '4' '5' '8' '4' '5' '6' '5' '6' '5' '6' '5' '6' '5' '6' '7' '6' '7'\n",
            "  '6' '5' '6' '7' '8' '8' '7' '8' '5' '4' '3' '3' '4' '5' '5' '5' '3' '4'\n",
            "  '4' '5' '5' '5' '5' '5' '5' '4' '3' '4' '5' '5' '4' '5' '3' '3' '3' '2'\n",
            "  '3' '2' '8' '5' '5' '5']\n",
            " ['Inactive' 'Inactive' 'Inactive' 'Inactive' 'Active' 'Inactive'\n",
            "  'Inactive' 'Inactive' 'Inactive' 'Inactive' 'Inactive' 'Inactive'\n",
            "  'Active' 'Inactive' 'Inactive' 'Inactive' 'Inactive' 'Inactive'\n",
            "  'Inactive' 'Inactive' 'Inactive' 'Inactive' 'Inactive' 'Inactive'\n",
            "  'Inactive' 'Active' 'Inactive' 'Inactive' 'Inactive' 'Inactive'\n",
            "  'Active' 'Inactive' 'Inactive' 'Inactive' 'Inactive' 'Inactive'\n",
            "  'Active' 'Active' 'Active' 'Active' 'Active' 'Active' 'Active' 'Active'\n",
            "  'Active' 'Inactive' 'Inactive' 'Inactive' 'Inactive' 'Inactive'\n",
            "  'Inactive' 'Active' 'Active' 'Active' 'Active' 'Active' 'Active'\n",
            "  'Active' 'Active' 'Active' 'Active' 'Active' 'Active' 'Inactive'\n",
            "  'Active' 'Active' 'Inactive' 'Active' 'Active' 'Active' 'Active'\n",
            "  'Active' 'Inactive' 'Active' 'Active' 'Active' 'Active' 'Inactive'\n",
            "  'Inactive' 'Inactive' 'Inactive' 'Active' 'Active' 'Active' 'Active'\n",
            "  'Inactive' 'Inactive' 'Inactive' 'Inactive' 'Inactive' 'Inactive'\n",
            "  'Inactive' 'Inactive' 'Active' 'Inactive' 'Active']]\n"
          ]
        }
      ]
    },
    {
      "cell_type": "code",
      "source": [
        "data_t.shape"
      ],
      "metadata": {
        "colab": {
          "base_uri": "https://localhost:8080/"
        },
        "id": "UxIT6AL41Ajp",
        "outputId": "d302e24e-5ed8-40e0-fbce-700c6d3fb3c3"
      },
      "execution_count": 10,
      "outputs": [
        {
          "output_type": "execute_result",
          "data": {
            "text/plain": [
              "(6, 96)"
            ]
          },
          "metadata": {},
          "execution_count": 10
        }
      ]
    },
    {
      "cell_type": "code",
      "source": [
        "len(data_t)"
      ],
      "metadata": {
        "colab": {
          "base_uri": "https://localhost:8080/"
        },
        "id": "WhmrI43V1Moz",
        "outputId": "dbc48795-48ab-49bf-c471-8d1ca966c2db"
      },
      "execution_count": 11,
      "outputs": [
        {
          "output_type": "execute_result",
          "data": {
            "text/plain": [
              "6"
            ]
          },
          "metadata": {},
          "execution_count": 11
        }
      ]
    },
    {
      "cell_type": "code",
      "source": [
        "rows = data_t.shape[0]\n",
        "cols = data_t.shape[1]"
      ],
      "metadata": {
        "id": "PSHM6cP21UJb"
      },
      "execution_count": 12,
      "outputs": []
    },
    {
      "cell_type": "code",
      "source": [
        "print(rows, cols)"
      ],
      "metadata": {
        "colab": {
          "base_uri": "https://localhost:8080/"
        },
        "id": "DDJCFbWR1bmV",
        "outputId": "a9fefdfa-1802-4211-a01f-da45dae47b09"
      },
      "execution_count": 13,
      "outputs": [
        {
          "output_type": "stream",
          "name": "stdout",
          "text": [
            "6 96\n"
          ]
        }
      ]
    },
    {
      "cell_type": "code",
      "source": [
        "dates = data_t[0]\n",
        "print(dates)"
      ],
      "metadata": {
        "colab": {
          "base_uri": "https://localhost:8080/"
        },
        "id": "Ci6evOPO1c30",
        "outputId": "6ee2fa1f-c6b0-4b6b-e243-bdd2ddd9d4c8"
      },
      "execution_count": 14,
      "outputs": [
        {
          "output_type": "stream",
          "name": "stdout",
          "text": [
            "['06-10-2017' '07-10-2017' '08-10-2017' '09-10-2017' '10-10-2017'\n",
            " '11-10-2017' '12-10-2017' '13-10-2017' '14-10-2017' '15-10-2017'\n",
            " '16-10-2017' '17-10-2017' '18-10-2017' '19-10-2017' '20-10-2017'\n",
            " '21-10-2017' '22-10-2017' '23-10-2017' '24-10-2017' '25-10-2017'\n",
            " '26-10-2017' '27-10-2017' '28-10-2017' '29-10-2017' '30-10-2017'\n",
            " '31-10-2017' '01-11-2017' '02-11-2017' '03-11-2017' '04-11-2017'\n",
            " '05-11-2017' '06-11-2017' '07-11-2017' '08-11-2017' '09-11-2017'\n",
            " '10-11-2017' '11-11-2017' '12-11-2017' '13-11-2017' '14-11-2017'\n",
            " '15-11-2017' '16-11-2017' '17-11-2017' '18-11-2017' '19-11-2017'\n",
            " '20-11-2017' '21-11-2017' '22-11-2017' '23-11-2017' '24-11-2017'\n",
            " '25-11-2017' '26-11-2017' '27-11-2017' '28-11-2017' '29-11-2017'\n",
            " '30-11-2017' '01-12-2017' '02-12-2017' '03-12-2017' '04-12-2017'\n",
            " '05-12-2017' '06-12-2017' '07-12-2017' '08-12-2017' '09-12-2017'\n",
            " '10-12-2017' '11-12-2017' '12-12-2017' '13-12-2017' '14-12-2017'\n",
            " '15-12-2017' '16-12-2017' '17-12-2017' '18-12-2017' '19-12-2017'\n",
            " '20-12-2017' '21-12-2017' '22-12-2017' '23-12-2017' '24-12-2017'\n",
            " '25-12-2017' '26-12-2017' '27-12-2017' '28-12-2017' '29-12-2017'\n",
            " '30-12-2017' '31-12-2017' '01-01-2018' '02-01-2018' '03-01-2018'\n",
            " '04-01-2018' '05-01-2018' '06-01-2018' '07-01-2018' '08-01-2018'\n",
            " '09-01-2018']\n"
          ]
        }
      ]
    },
    {
      "cell_type": "code",
      "source": [
        "dates.ndim"
      ],
      "metadata": {
        "colab": {
          "base_uri": "https://localhost:8080/"
        },
        "id": "Ulm60K-d1j6_",
        "outputId": "12d3bdfb-739e-4456-9b05-58f8b1f81d72"
      },
      "execution_count": 15,
      "outputs": [
        {
          "output_type": "execute_result",
          "data": {
            "text/plain": [
              "1"
            ]
          },
          "metadata": {},
          "execution_count": 15
        }
      ]
    },
    {
      "cell_type": "code",
      "source": [
        "dates.shape"
      ],
      "metadata": {
        "colab": {
          "base_uri": "https://localhost:8080/"
        },
        "id": "1A8zsnho14Lg",
        "outputId": "91b70cde-5e10-4bb6-b947-c88bc980a191"
      },
      "execution_count": 16,
      "outputs": [
        {
          "output_type": "execute_result",
          "data": {
            "text/plain": [
              "(96,)"
            ]
          },
          "metadata": {},
          "execution_count": 16
        }
      ]
    },
    {
      "cell_type": "code",
      "source": [
        "step_count = data_t[1]\n",
        "print(step_count)"
      ],
      "metadata": {
        "colab": {
          "base_uri": "https://localhost:8080/"
        },
        "id": "vEYOhCYa15pY",
        "outputId": "f963d3e2-4277-4c97-b5e6-ac8e47bd4e1d"
      },
      "execution_count": 17,
      "outputs": [
        {
          "output_type": "stream",
          "name": "stdout",
          "text": [
            "['5464' '6041' '25' '5461' '6915' '4545' '4340' '1230' '61' '1258' '3148'\n",
            " '4687' '4732' '3519' '1580' '2822' '181' '3158' '4383' '3881' '4037'\n",
            " '202' '292' '330' '2209' '4550' '4435' '4779' '1831' '2255' '539' '5464'\n",
            " '6041' '4068' '4683' '4033' '6314' '614' '3149' '4005' '4880' '4136'\n",
            " '705' '570' '269' '4275' '5999' '4421' '6930' '5195' '546' '493' '995'\n",
            " '1163' '6676' '3608' '774' '1421' '4064' '2725' '5934' '1867' '3721'\n",
            " '2374' '2909' '1648' '799' '7102' '3941' '7422' '437' '1231' '1696'\n",
            " '4921' '221' '6500' '3575' '4061' '651' '753' '518' '5537' '4108' '5376'\n",
            " '3066' '177' '36' '299' '1447' '2599' '702' '133' '153' '500' '2127'\n",
            " '2203']\n"
          ]
        }
      ]
    },
    {
      "cell_type": "code",
      "source": [
        "step_count = np.array(step_count, dtype = \"int\")\n",
        "print(step_count)"
      ],
      "metadata": {
        "colab": {
          "base_uri": "https://localhost:8080/"
        },
        "id": "e4QghRPv2B5M",
        "outputId": "236c32f9-c4db-4eac-ed26-33df1eed3b58"
      },
      "execution_count": 19,
      "outputs": [
        {
          "output_type": "stream",
          "name": "stdout",
          "text": [
            "[5464 6041   25 5461 6915 4545 4340 1230   61 1258 3148 4687 4732 3519\n",
            " 1580 2822  181 3158 4383 3881 4037  202  292  330 2209 4550 4435 4779\n",
            " 1831 2255  539 5464 6041 4068 4683 4033 6314  614 3149 4005 4880 4136\n",
            "  705  570  269 4275 5999 4421 6930 5195  546  493  995 1163 6676 3608\n",
            "  774 1421 4064 2725 5934 1867 3721 2374 2909 1648  799 7102 3941 7422\n",
            "  437 1231 1696 4921  221 6500 3575 4061  651  753  518 5537 4108 5376\n",
            " 3066  177   36  299 1447 2599  702  133  153  500 2127 2203]\n"
          ]
        }
      ]
    },
    {
      "cell_type": "code",
      "source": [
        "np.mean(step_count) #average step count in the given data"
      ],
      "metadata": {
        "colab": {
          "base_uri": "https://localhost:8080/"
        },
        "id": "jZvXY5WR2R8n",
        "outputId": "a8d51f61-4322-4954-bcf2-6e576a90fe49"
      },
      "execution_count": 20,
      "outputs": [
        {
          "output_type": "execute_result",
          "data": {
            "text/plain": [
              "2935.9375"
            ]
          },
          "metadata": {},
          "execution_count": 20
        }
      ]
    },
    {
      "cell_type": "code",
      "source": [
        "#version2"
      ],
      "metadata": {
        "id": "pD2Edd_w2ayP"
      },
      "execution_count": 21,
      "outputs": []
    },
    {
      "cell_type": "code",
      "source": [
        "data[:5]"
      ],
      "metadata": {
        "colab": {
          "base_uri": "https://localhost:8080/"
        },
        "id": "g7tvLUEc3Uq1",
        "outputId": "3bfa283a-e812-4aed-afd1-cefaac58f1c9"
      },
      "execution_count": 22,
      "outputs": [
        {
          "output_type": "execute_result",
          "data": {
            "text/plain": [
              "array([['06-10-2017', '5464', 'Neutral', '181', '5', 'Inactive'],\n",
              "       ['07-10-2017', '6041', 'Sad', '197', '8', 'Inactive'],\n",
              "       ['08-10-2017', '25', 'Sad', '0', '5', 'Inactive'],\n",
              "       ['09-10-2017', '5461', 'Sad', '174', '4', 'Inactive'],\n",
              "       ['10-10-2017', '6915', 'Neutral', '223', '5', 'Active']],\n",
              "      dtype='<U10')"
            ]
          },
          "metadata": {},
          "execution_count": 22
        }
      ]
    },
    {
      "cell_type": "code",
      "source": [
        "step_count = data[ : , 1]\n",
        "print(step_count)"
      ],
      "metadata": {
        "colab": {
          "base_uri": "https://localhost:8080/"
        },
        "id": "DarzskV93bEc",
        "outputId": "6d05ad18-71b9-45d6-8d86-2c0a08a43d0b"
      },
      "execution_count": 23,
      "outputs": [
        {
          "output_type": "stream",
          "name": "stdout",
          "text": [
            "['5464' '6041' '25' '5461' '6915' '4545' '4340' '1230' '61' '1258' '3148'\n",
            " '4687' '4732' '3519' '1580' '2822' '181' '3158' '4383' '3881' '4037'\n",
            " '202' '292' '330' '2209' '4550' '4435' '4779' '1831' '2255' '539' '5464'\n",
            " '6041' '4068' '4683' '4033' '6314' '614' '3149' '4005' '4880' '4136'\n",
            " '705' '570' '269' '4275' '5999' '4421' '6930' '5195' '546' '493' '995'\n",
            " '1163' '6676' '3608' '774' '1421' '4064' '2725' '5934' '1867' '3721'\n",
            " '2374' '2909' '1648' '799' '7102' '3941' '7422' '437' '1231' '1696'\n",
            " '4921' '221' '6500' '3575' '4061' '651' '753' '518' '5537' '4108' '5376'\n",
            " '3066' '177' '36' '299' '1447' '2599' '702' '133' '153' '500' '2127'\n",
            " '2203']\n"
          ]
        }
      ]
    },
    {
      "cell_type": "code",
      "source": [
        "step_count = np.array(step_count, dtype = \"int\")\n",
        "print(step_count)"
      ],
      "metadata": {
        "colab": {
          "base_uri": "https://localhost:8080/"
        },
        "id": "69QjLOgu3uP-",
        "outputId": "f2cd176a-40d4-4ed3-9c86-a3ce90392acc"
      },
      "execution_count": 24,
      "outputs": [
        {
          "output_type": "stream",
          "name": "stdout",
          "text": [
            "[5464 6041   25 5461 6915 4545 4340 1230   61 1258 3148 4687 4732 3519\n",
            " 1580 2822  181 3158 4383 3881 4037  202  292  330 2209 4550 4435 4779\n",
            " 1831 2255  539 5464 6041 4068 4683 4033 6314  614 3149 4005 4880 4136\n",
            "  705  570  269 4275 5999 4421 6930 5195  546  493  995 1163 6676 3608\n",
            "  774 1421 4064 2725 5934 1867 3721 2374 2909 1648  799 7102 3941 7422\n",
            "  437 1231 1696 4921  221 6500 3575 4061  651  753  518 5537 4108 5376\n",
            " 3066  177   36  299 1447 2599  702  133  153  500 2127 2203]\n"
          ]
        }
      ]
    },
    {
      "cell_type": "code",
      "source": [
        "mood = data[:, 2]\n",
        "print(mood)"
      ],
      "metadata": {
        "colab": {
          "base_uri": "https://localhost:8080/"
        },
        "id": "z7TUbR7d312G",
        "outputId": "c13a05cf-de64-437e-a21d-5e95552760a5"
      },
      "execution_count": 25,
      "outputs": [
        {
          "output_type": "stream",
          "name": "stdout",
          "text": [
            "['Neutral' 'Sad' 'Sad' 'Sad' 'Neutral' 'Sad' 'Sad' 'Sad' 'Sad' 'Sad' 'Sad'\n",
            " 'Sad' 'Happy' 'Sad' 'Sad' 'Sad' 'Sad' 'Neutral' 'Neutral' 'Neutral'\n",
            " 'Neutral' 'Neutral' 'Neutral' 'Happy' 'Neutral' 'Happy' 'Happy' 'Happy'\n",
            " 'Happy' 'Happy' 'Happy' 'Happy' 'Neutral' 'Happy' 'Happy' 'Happy' 'Happy'\n",
            " 'Happy' 'Happy' 'Happy' 'Happy' 'Happy' 'Happy' 'Neutral' 'Happy' 'Happy'\n",
            " 'Happy' 'Happy' 'Happy' 'Happy' 'Happy' 'Happy' 'Happy' 'Neutral' 'Sad'\n",
            " 'Happy' 'Happy' 'Happy' 'Happy' 'Happy' 'Happy' 'Happy' 'Sad' 'Neutral'\n",
            " 'Neutral' 'Sad' 'Sad' 'Neutral' 'Neutral' 'Happy' 'Neutral' 'Neutral'\n",
            " 'Sad' 'Neutral' 'Sad' 'Neutral' 'Neutral' 'Sad' 'Sad' 'Sad' 'Sad' 'Happy'\n",
            " 'Neutral' 'Happy' 'Neutral' 'Sad' 'Sad' 'Sad' 'Neutral' 'Neutral' 'Sad'\n",
            " 'Sad' 'Happy' 'Neutral' 'Neutral' 'Happy']\n"
          ]
        }
      ]
    },
    {
      "cell_type": "code",
      "source": [
        "mood == \"Happy\""
      ],
      "metadata": {
        "colab": {
          "base_uri": "https://localhost:8080/"
        },
        "id": "BP6219sM3_hc",
        "outputId": "d256def5-15e1-40d4-907b-50e13b59ef47"
      },
      "execution_count": 26,
      "outputs": [
        {
          "output_type": "execute_result",
          "data": {
            "text/plain": [
              "array([False, False, False, False, False, False, False, False, False,\n",
              "       False, False, False,  True, False, False, False, False, False,\n",
              "       False, False, False, False, False,  True, False,  True,  True,\n",
              "        True,  True,  True,  True,  True, False,  True,  True,  True,\n",
              "        True,  True,  True,  True,  True,  True,  True, False,  True,\n",
              "        True,  True,  True,  True,  True,  True,  True,  True, False,\n",
              "       False,  True,  True,  True,  True,  True,  True,  True, False,\n",
              "       False, False, False, False, False, False,  True, False, False,\n",
              "       False, False, False, False, False, False, False, False, False,\n",
              "        True, False,  True, False, False, False, False, False, False,\n",
              "       False, False,  True, False, False,  True])"
            ]
          },
          "metadata": {},
          "execution_count": 26
        }
      ]
    },
    {
      "cell_type": "code",
      "source": [
        "step_count_happy = step_count[ mood == \"Happy\" ] #filtering those step counts where the mood is Happy\n",
        "print(step_count_happy)"
      ],
      "metadata": {
        "colab": {
          "base_uri": "https://localhost:8080/"
        },
        "id": "OgHihI6Q4wQw",
        "outputId": "aa92e4d3-c32a-4722-de0f-13204e05c3f8"
      },
      "execution_count": 27,
      "outputs": [
        {
          "output_type": "stream",
          "name": "stdout",
          "text": [
            "[4732  330 4550 4435 4779 1831 2255  539 5464 4068 4683 4033 6314  614\n",
            " 3149 4005 4880 4136  705  269 4275 5999 4421 6930 5195  546  493  995\n",
            " 3608  774 1421 4064 2725 5934 1867 7422 5537 5376  153 2203]\n"
          ]
        }
      ]
    },
    {
      "cell_type": "code",
      "source": [
        "len(step_count_happy)"
      ],
      "metadata": {
        "colab": {
          "base_uri": "https://localhost:8080/"
        },
        "id": "tCC2irm_5C1b",
        "outputId": "4050706f-36ab-4b13-bcd6-d8f244bd8f3f"
      },
      "execution_count": 28,
      "outputs": [
        {
          "output_type": "execute_result",
          "data": {
            "text/plain": [
              "40"
            ]
          },
          "metadata": {},
          "execution_count": 28
        }
      ]
    },
    {
      "cell_type": "code",
      "source": [
        "step_count_sad = step_count[ mood == \"Sad\" ] #filtering those step counts where the mood is Sad\n",
        "print(step_count_sad)"
      ],
      "metadata": {
        "colab": {
          "base_uri": "https://localhost:8080/"
        },
        "id": "ED7qi12s5MMR",
        "outputId": "611a3f9d-c717-476c-e8cf-3845b767a3d5"
      },
      "execution_count": 29,
      "outputs": [
        {
          "output_type": "stream",
          "name": "stdout",
          "text": [
            "[6041   25 5461 4545 4340 1230   61 1258 3148 4687 3519 1580 2822  181\n",
            " 6676 3721 1648  799 1696  221 4061  651  753  518  177   36  299  702\n",
            "  133]\n"
          ]
        }
      ]
    },
    {
      "cell_type": "code",
      "source": [
        "len(step_count_sad)"
      ],
      "metadata": {
        "colab": {
          "base_uri": "https://localhost:8080/"
        },
        "id": "vluhxTNg5g8R",
        "outputId": "d0fe2869-f7a7-45fb-c597-c49b2b66a984"
      },
      "execution_count": 30,
      "outputs": [
        {
          "output_type": "execute_result",
          "data": {
            "text/plain": [
              "29"
            ]
          },
          "metadata": {},
          "execution_count": 30
        }
      ]
    },
    {
      "cell_type": "code",
      "source": [
        "step_count_neutral = step_count[ mood == \"Neutral\"]\n",
        "len(step_count_neutral)"
      ],
      "metadata": {
        "colab": {
          "base_uri": "https://localhost:8080/"
        },
        "id": "r22j-am-5jp5",
        "outputId": "0f79f080-bd06-4443-d59f-113371f3fb60"
      },
      "execution_count": 31,
      "outputs": [
        {
          "output_type": "execute_result",
          "data": {
            "text/plain": [
              "27"
            ]
          },
          "metadata": {},
          "execution_count": 31
        }
      ]
    },
    {
      "cell_type": "code",
      "source": [
        "#step count when the person was either happy or neutral"
      ],
      "metadata": {
        "id": "89oAvT835oOp"
      },
      "execution_count": 32,
      "outputs": []
    },
    {
      "cell_type": "code",
      "source": [
        "step_count_happy_or_neutral = step_count[ ( mood == \"Happy\" ) or ( mood == \"Neutral\" ) ] # and --> &, or --> |"
      ],
      "metadata": {
        "colab": {
          "base_uri": "https://localhost:8080/",
          "height": 179
        },
        "id": "5hhlaVh658WM",
        "outputId": "8d99bde9-ff30-40df-ab85-cf8e894437c7"
      },
      "execution_count": 33,
      "outputs": [
        {
          "output_type": "error",
          "ename": "ValueError",
          "evalue": "ignored",
          "traceback": [
            "\u001b[0;31m---------------------------------------------------------------------------\u001b[0m",
            "\u001b[0;31mValueError\u001b[0m                                Traceback (most recent call last)",
            "\u001b[0;32m<ipython-input-33-9fe7575da360>\u001b[0m in \u001b[0;36m<cell line: 1>\u001b[0;34m()\u001b[0m\n\u001b[0;32m----> 1\u001b[0;31m \u001b[0mstep_count_happy_or_neutral\u001b[0m \u001b[0;34m=\u001b[0m \u001b[0mstep_count\u001b[0m\u001b[0;34m[\u001b[0m \u001b[0;34m(\u001b[0m \u001b[0mmood\u001b[0m \u001b[0;34m==\u001b[0m \u001b[0;34m\"Happy\"\u001b[0m \u001b[0;34m)\u001b[0m \u001b[0;32mor\u001b[0m \u001b[0;34m(\u001b[0m \u001b[0mmood\u001b[0m \u001b[0;34m==\u001b[0m \u001b[0;34m\"Neutral\"\u001b[0m \u001b[0;34m)\u001b[0m \u001b[0;34m]\u001b[0m\u001b[0;34m\u001b[0m\u001b[0;34m\u001b[0m\u001b[0m\n\u001b[0m",
            "\u001b[0;31mValueError\u001b[0m: The truth value of an array with more than one element is ambiguous. Use a.any() or a.all()"
          ]
        }
      ]
    },
    {
      "cell_type": "code",
      "source": [
        "step_count_happy_or_neutral = step_count[ ( mood == \"Happy\" ) | ( mood == \"Neutral\" ) ] # and --> &, or --> |"
      ],
      "metadata": {
        "id": "JDaNdRFT6fEg"
      },
      "execution_count": 34,
      "outputs": []
    },
    {
      "cell_type": "code",
      "source": [
        "len(step_count_happy_or_neutral)"
      ],
      "metadata": {
        "colab": {
          "base_uri": "https://localhost:8080/"
        },
        "id": "n_qFml3V6vrV",
        "outputId": "65b473f1-3bf1-48bd-abb2-c4c664a45c36"
      },
      "execution_count": 35,
      "outputs": [
        {
          "output_type": "execute_result",
          "data": {
            "text/plain": [
              "67"
            ]
          },
          "metadata": {},
          "execution_count": 35
        }
      ]
    },
    {
      "cell_type": "code",
      "source": [
        "#avg steps when mood is sad"
      ],
      "metadata": {
        "id": "5EsEGjoE64aW"
      },
      "execution_count": 36,
      "outputs": []
    },
    {
      "cell_type": "code",
      "source": [
        "sad_avg_step = np.mean(step_count_sad)\n",
        "print(sad_avg_step)"
      ],
      "metadata": {
        "colab": {
          "base_uri": "https://localhost:8080/"
        },
        "id": "9ahLIh-a6-LW",
        "outputId": "46b6a4c0-a043-4734-ea5a-3d88db04ab54"
      },
      "execution_count": 37,
      "outputs": [
        {
          "output_type": "stream",
          "name": "stdout",
          "text": [
            "2103.0689655172414\n"
          ]
        }
      ]
    },
    {
      "cell_type": "code",
      "source": [
        "happy_neutral_avg_steps = np.mean(step_count_happy_or_neutral)\n",
        "print(happy_neutral_avg_steps)"
      ],
      "metadata": {
        "colab": {
          "base_uri": "https://localhost:8080/"
        },
        "id": "3vB-0fr57Kdn",
        "outputId": "2681b829-ef36-4183-ef3e-6dcd681a9990"
      },
      "execution_count": 38,
      "outputs": [
        {
          "output_type": "stream",
          "name": "stdout",
          "text": [
            "3296.4328358208954\n"
          ]
        }
      ]
    },
    {
      "cell_type": "code",
      "source": [
        "happy_avg_step = np.mean(step_count_happy)\n",
        "happy_avg_step = np.round(happy_avg_step, 2)\n",
        "print(happy_avg_step)"
      ],
      "metadata": {
        "colab": {
          "base_uri": "https://localhost:8080/"
        },
        "id": "o0VHECKV7Yak",
        "outputId": "3edc2aa6-bf2c-46aa-e6d5-40cc2e393872"
      },
      "execution_count": 40,
      "outputs": [
        {
          "output_type": "stream",
          "name": "stdout",
          "text": [
            "3392.72\n"
          ]
        }
      ]
    },
    {
      "cell_type": "code",
      "source": [
        "sad_avg_step = np.mean(step_count_sad)\n",
        "sad_avg_step = np.round(sad_avg_step, 2)\n",
        "print(sad_avg_step)"
      ],
      "metadata": {
        "colab": {
          "base_uri": "https://localhost:8080/"
        },
        "id": "LzFpteVg72RB",
        "outputId": "7d886834-3941-48b6-a55d-865291a62f68"
      },
      "execution_count": 41,
      "outputs": [
        {
          "output_type": "stream",
          "name": "stdout",
          "text": [
            "2103.07\n"
          ]
        }
      ]
    },
    {
      "cell_type": "code",
      "source": [
        "neutral_avg_step = np.mean(step_count_neutral)\n",
        "neutral_avg_step = np.round(neutral_avg_step, 3)\n",
        "print(neutral_avg_step)"
      ],
      "metadata": {
        "colab": {
          "base_uri": "https://localhost:8080/"
        },
        "id": "y88sP_S576SK",
        "outputId": "1a130e76-fe9b-49df-9208-aa854af78768"
      },
      "execution_count": 43,
      "outputs": [
        {
          "output_type": "stream",
          "name": "stdout",
          "text": [
            "3153.778\n"
          ]
        }
      ]
    },
    {
      "cell_type": "code",
      "source": [
        "print(dates)"
      ],
      "metadata": {
        "colab": {
          "base_uri": "https://localhost:8080/"
        },
        "id": "ym2nhPGx8h1q",
        "outputId": "bfddf69c-25db-4d9b-f64d-59020a75e0b6"
      },
      "execution_count": 45,
      "outputs": [
        {
          "output_type": "stream",
          "name": "stdout",
          "text": [
            "['06-10-2017' '07-10-2017' '08-10-2017' '09-10-2017' '10-10-2017'\n",
            " '11-10-2017' '12-10-2017' '13-10-2017' '14-10-2017' '15-10-2017'\n",
            " '16-10-2017' '17-10-2017' '18-10-2017' '19-10-2017' '20-10-2017'\n",
            " '21-10-2017' '22-10-2017' '23-10-2017' '24-10-2017' '25-10-2017'\n",
            " '26-10-2017' '27-10-2017' '28-10-2017' '29-10-2017' '30-10-2017'\n",
            " '31-10-2017' '01-11-2017' '02-11-2017' '03-11-2017' '04-11-2017'\n",
            " '05-11-2017' '06-11-2017' '07-11-2017' '08-11-2017' '09-11-2017'\n",
            " '10-11-2017' '11-11-2017' '12-11-2017' '13-11-2017' '14-11-2017'\n",
            " '15-11-2017' '16-11-2017' '17-11-2017' '18-11-2017' '19-11-2017'\n",
            " '20-11-2017' '21-11-2017' '22-11-2017' '23-11-2017' '24-11-2017'\n",
            " '25-11-2017' '26-11-2017' '27-11-2017' '28-11-2017' '29-11-2017'\n",
            " '30-11-2017' '01-12-2017' '02-12-2017' '03-12-2017' '04-12-2017'\n",
            " '05-12-2017' '06-12-2017' '07-12-2017' '08-12-2017' '09-12-2017'\n",
            " '10-12-2017' '11-12-2017' '12-12-2017' '13-12-2017' '14-12-2017'\n",
            " '15-12-2017' '16-12-2017' '17-12-2017' '18-12-2017' '19-12-2017'\n",
            " '20-12-2017' '21-12-2017' '22-12-2017' '23-12-2017' '24-12-2017'\n",
            " '25-12-2017' '26-12-2017' '27-12-2017' '28-12-2017' '29-12-2017'\n",
            " '30-12-2017' '31-12-2017' '01-01-2018' '02-01-2018' '03-01-2018'\n",
            " '04-01-2018' '05-01-2018' '06-01-2018' '07-01-2018' '08-01-2018'\n",
            " '09-01-2018']\n"
          ]
        }
      ]
    },
    {
      "cell_type": "code",
      "source": [
        "dates == \"06-10-2017\""
      ],
      "metadata": {
        "colab": {
          "base_uri": "https://localhost:8080/"
        },
        "id": "c-RRZt7t8G-G",
        "outputId": "9f977c86-d17f-4a8c-aae9-0534c8f89ad2"
      },
      "execution_count": 44,
      "outputs": [
        {
          "output_type": "execute_result",
          "data": {
            "text/plain": [
              "array([ True, False, False, False, False, False, False, False, False,\n",
              "       False, False, False, False, False, False, False, False, False,\n",
              "       False, False, False, False, False, False, False, False, False,\n",
              "       False, False, False, False, False, False, False, False, False,\n",
              "       False, False, False, False, False, False, False, False, False,\n",
              "       False, False, False, False, False, False, False, False, False,\n",
              "       False, False, False, False, False, False, False, False, False,\n",
              "       False, False, False, False, False, False, False, False, False,\n",
              "       False, False, False, False, False, False, False, False, False,\n",
              "       False, False, False, False, False, False, False, False, False,\n",
              "       False, False, False, False, False, False])"
            ]
          },
          "metadata": {},
          "execution_count": 44
        }
      ]
    },
    {
      "cell_type": "code",
      "source": [
        "#filter out the mood on \"06-10-2017\""
      ],
      "metadata": {
        "id": "zW0f7XLb8go5"
      },
      "execution_count": null,
      "outputs": []
    },
    {
      "cell_type": "code",
      "source": [
        "new_mood = mood[ dates == \"06-10-2017\"]"
      ],
      "metadata": {
        "id": "BnDgQTpw84Xz"
      },
      "execution_count": 46,
      "outputs": []
    },
    {
      "cell_type": "code",
      "source": [
        "print(new_mood)"
      ],
      "metadata": {
        "colab": {
          "base_uri": "https://localhost:8080/"
        },
        "id": "C8qw_8ct89a_",
        "outputId": "72ed0e52-1588-456b-b669-9b3400650f19"
      },
      "execution_count": 47,
      "outputs": [
        {
          "output_type": "stream",
          "name": "stdout",
          "text": [
            "['Neutral']\n"
          ]
        }
      ]
    },
    {
      "cell_type": "code",
      "source": [
        "a = np.array([5,7,3])\n",
        "a == 7"
      ],
      "metadata": {
        "colab": {
          "base_uri": "https://localhost:8080/"
        },
        "id": "0LASduz28_YK",
        "outputId": "2c70f34a-87c3-4d71-a8e2-3056a1358816"
      },
      "execution_count": 48,
      "outputs": [
        {
          "output_type": "execute_result",
          "data": {
            "text/plain": [
              "array([False,  True, False])"
            ]
          },
          "metadata": {},
          "execution_count": 48
        }
      ]
    },
    {
      "cell_type": "code",
      "source": [
        "a[ a == 7]"
      ],
      "metadata": {
        "colab": {
          "base_uri": "https://localhost:8080/"
        },
        "id": "UGtXGl_M9L9E",
        "outputId": "4f746a3c-8d10-4838-d8a6-feef638818bf"
      },
      "execution_count": 49,
      "outputs": [
        {
          "output_type": "execute_result",
          "data": {
            "text/plain": [
              "array([7])"
            ]
          },
          "metadata": {},
          "execution_count": 49
        }
      ]
    },
    {
      "cell_type": "code",
      "source": [
        "#general concepts"
      ],
      "metadata": {
        "id": "MiZZLF809Nu1"
      },
      "execution_count": 50,
      "outputs": []
    },
    {
      "cell_type": "code",
      "source": [
        "b = np.arange(16)\n",
        "print(b)"
      ],
      "metadata": {
        "colab": {
          "base_uri": "https://localhost:8080/"
        },
        "id": "b7mtyPrqAkWZ",
        "outputId": "4b1d7de2-d74c-4f3c-942c-31bfd89af9fe"
      },
      "execution_count": 51,
      "outputs": [
        {
          "output_type": "stream",
          "name": "stdout",
          "text": [
            "[ 0  1  2  3  4  5  6  7  8  9 10 11 12 13 14 15]\n"
          ]
        }
      ]
    },
    {
      "cell_type": "code",
      "source": [
        "b.ndim"
      ],
      "metadata": {
        "colab": {
          "base_uri": "https://localhost:8080/"
        },
        "id": "7vT64oDGAqpx",
        "outputId": "5ab55d06-5445-4a1c-aafb-53cb5aa6c7fa"
      },
      "execution_count": 52,
      "outputs": [
        {
          "output_type": "execute_result",
          "data": {
            "text/plain": [
              "1"
            ]
          },
          "metadata": {},
          "execution_count": 52
        }
      ]
    },
    {
      "cell_type": "code",
      "source": [
        "b.shape"
      ],
      "metadata": {
        "colab": {
          "base_uri": "https://localhost:8080/"
        },
        "id": "QdP6usLiAti7",
        "outputId": "1299369c-ea68-441a-eb45-231b443e46ce"
      },
      "execution_count": 53,
      "outputs": [
        {
          "output_type": "execute_result",
          "data": {
            "text/plain": [
              "(16,)"
            ]
          },
          "metadata": {},
          "execution_count": 53
        }
      ]
    },
    {
      "cell_type": "code",
      "source": [
        "c = b.reshape(8,2)"
      ],
      "metadata": {
        "id": "hz1KTmTwAwlE"
      },
      "execution_count": 54,
      "outputs": []
    },
    {
      "cell_type": "code",
      "source": [
        "print(b)"
      ],
      "metadata": {
        "colab": {
          "base_uri": "https://localhost:8080/"
        },
        "id": "rhEkerzrBDVM",
        "outputId": "be9a567c-e811-484a-ec7b-c862005943d3"
      },
      "execution_count": 55,
      "outputs": [
        {
          "output_type": "stream",
          "name": "stdout",
          "text": [
            "[ 0  1  2  3  4  5  6  7  8  9 10 11 12 13 14 15]\n"
          ]
        }
      ]
    },
    {
      "cell_type": "code",
      "source": [
        "print(c)"
      ],
      "metadata": {
        "colab": {
          "base_uri": "https://localhost:8080/"
        },
        "id": "s5-VfYIkBEPO",
        "outputId": "c3b22b09-cab3-4356-a358-cc6fbafe8456"
      },
      "execution_count": 56,
      "outputs": [
        {
          "output_type": "stream",
          "name": "stdout",
          "text": [
            "[[ 0  1]\n",
            " [ 2  3]\n",
            " [ 4  5]\n",
            " [ 6  7]\n",
            " [ 8  9]\n",
            " [10 11]\n",
            " [12 13]\n",
            " [14 15]]\n"
          ]
        }
      ]
    },
    {
      "cell_type": "code",
      "source": [
        "c.ndim"
      ],
      "metadata": {
        "colab": {
          "base_uri": "https://localhost:8080/"
        },
        "id": "d6Q7w8jjBGjB",
        "outputId": "a8716182-a690-43e4-d96b-e3f8c3e499e8"
      },
      "execution_count": 57,
      "outputs": [
        {
          "output_type": "execute_result",
          "data": {
            "text/plain": [
              "2"
            ]
          },
          "metadata": {},
          "execution_count": 57
        }
      ]
    },
    {
      "cell_type": "code",
      "source": [
        "c.shape"
      ],
      "metadata": {
        "colab": {
          "base_uri": "https://localhost:8080/"
        },
        "id": "zSjsSdHyBOE1",
        "outputId": "719f9078-0921-4004-b80b-351c8df3461a"
      },
      "execution_count": 58,
      "outputs": [
        {
          "output_type": "execute_result",
          "data": {
            "text/plain": [
              "(8, 2)"
            ]
          },
          "metadata": {},
          "execution_count": 58
        }
      ]
    },
    {
      "cell_type": "code",
      "source": [
        "d = b.reshape(8,3)"
      ],
      "metadata": {
        "colab": {
          "base_uri": "https://localhost:8080/",
          "height": 179
        },
        "id": "gkl0_ZSHBO5O",
        "outputId": "b47f5060-1b7b-4514-e5a2-9ce6a7701453"
      },
      "execution_count": 59,
      "outputs": [
        {
          "output_type": "error",
          "ename": "ValueError",
          "evalue": "ignored",
          "traceback": [
            "\u001b[0;31m---------------------------------------------------------------------------\u001b[0m",
            "\u001b[0;31mValueError\u001b[0m                                Traceback (most recent call last)",
            "\u001b[0;32m<ipython-input-59-afac47f23f47>\u001b[0m in \u001b[0;36m<cell line: 1>\u001b[0;34m()\u001b[0m\n\u001b[0;32m----> 1\u001b[0;31m \u001b[0md\u001b[0m \u001b[0;34m=\u001b[0m \u001b[0mb\u001b[0m\u001b[0;34m.\u001b[0m\u001b[0mreshape\u001b[0m\u001b[0;34m(\u001b[0m\u001b[0;36m8\u001b[0m\u001b[0;34m,\u001b[0m\u001b[0;36m3\u001b[0m\u001b[0;34m)\u001b[0m\u001b[0;34m\u001b[0m\u001b[0;34m\u001b[0m\u001b[0m\n\u001b[0m",
            "\u001b[0;31mValueError\u001b[0m: cannot reshape array of size 16 into shape (8,3)"
          ]
        }
      ]
    },
    {
      "cell_type": "code",
      "source": [
        "d = b.reshape(4,4)\n",
        "print(d)"
      ],
      "metadata": {
        "colab": {
          "base_uri": "https://localhost:8080/"
        },
        "id": "Gx9YyXe0BUpt",
        "outputId": "dbe784b6-f33e-427f-fd1e-c8b5a29d6e94"
      },
      "execution_count": 60,
      "outputs": [
        {
          "output_type": "stream",
          "name": "stdout",
          "text": [
            "[[ 0  1  2  3]\n",
            " [ 4  5  6  7]\n",
            " [ 8  9 10 11]\n",
            " [12 13 14 15]]\n"
          ]
        }
      ]
    },
    {
      "cell_type": "code",
      "source": [
        "print(b)"
      ],
      "metadata": {
        "colab": {
          "base_uri": "https://localhost:8080/"
        },
        "id": "H2mWiYBSBdJz",
        "outputId": "40c64f5c-b244-472c-cf38-9ac01eecbbaa"
      },
      "execution_count": 61,
      "outputs": [
        {
          "output_type": "stream",
          "name": "stdout",
          "text": [
            "[ 0  1  2  3  4  5  6  7  8  9 10 11 12 13 14 15]\n"
          ]
        }
      ]
    },
    {
      "cell_type": "code",
      "source": [
        "d = b.reshape(1, 16)\n",
        "print(d)"
      ],
      "metadata": {
        "colab": {
          "base_uri": "https://localhost:8080/"
        },
        "id": "8tZnmRlVBgbD",
        "outputId": "87e4dc02-6b23-45a8-bf66-8e161cf0ffb9"
      },
      "execution_count": 62,
      "outputs": [
        {
          "output_type": "stream",
          "name": "stdout",
          "text": [
            "[[ 0  1  2  3  4  5  6  7  8  9 10 11 12 13 14 15]]\n"
          ]
        }
      ]
    },
    {
      "cell_type": "code",
      "source": [
        "d.ndim"
      ],
      "metadata": {
        "colab": {
          "base_uri": "https://localhost:8080/"
        },
        "id": "yOdbT1EQBsS7",
        "outputId": "402346a5-5feb-4fe5-ee7b-f463ff94b15f"
      },
      "execution_count": 63,
      "outputs": [
        {
          "output_type": "execute_result",
          "data": {
            "text/plain": [
              "2"
            ]
          },
          "metadata": {},
          "execution_count": 63
        }
      ]
    },
    {
      "cell_type": "code",
      "source": [
        "d.shape"
      ],
      "metadata": {
        "colab": {
          "base_uri": "https://localhost:8080/"
        },
        "id": "BYBjQ4trBvpd",
        "outputId": "d3334843-af97-48a7-e69c-26344b61c8a6"
      },
      "execution_count": 64,
      "outputs": [
        {
          "output_type": "execute_result",
          "data": {
            "text/plain": [
              "(1, 16)"
            ]
          },
          "metadata": {},
          "execution_count": 64
        }
      ]
    },
    {
      "cell_type": "code",
      "source": [
        "d = b.reshape(8, -1)\n",
        "print(d)"
      ],
      "metadata": {
        "colab": {
          "base_uri": "https://localhost:8080/"
        },
        "id": "qiop2oylBygK",
        "outputId": "3bb58e33-9ad3-4bd9-d56d-184ffeab138d"
      },
      "execution_count": 65,
      "outputs": [
        {
          "output_type": "stream",
          "name": "stdout",
          "text": [
            "[[ 0  1]\n",
            " [ 2  3]\n",
            " [ 4  5]\n",
            " [ 6  7]\n",
            " [ 8  9]\n",
            " [10 11]\n",
            " [12 13]\n",
            " [14 15]]\n"
          ]
        }
      ]
    },
    {
      "cell_type": "code",
      "source": [
        "d = b.reshape(7 , -1)"
      ],
      "metadata": {
        "colab": {
          "base_uri": "https://localhost:8080/",
          "height": 179
        },
        "id": "DiwtIQ1MCAsn",
        "outputId": "da818e21-fb96-4cf6-8285-0e570f9a35b5"
      },
      "execution_count": 66,
      "outputs": [
        {
          "output_type": "error",
          "ename": "ValueError",
          "evalue": "ignored",
          "traceback": [
            "\u001b[0;31m---------------------------------------------------------------------------\u001b[0m",
            "\u001b[0;31mValueError\u001b[0m                                Traceback (most recent call last)",
            "\u001b[0;32m<ipython-input-66-4d5599ceb54a>\u001b[0m in \u001b[0;36m<cell line: 1>\u001b[0;34m()\u001b[0m\n\u001b[0;32m----> 1\u001b[0;31m \u001b[0md\u001b[0m \u001b[0;34m=\u001b[0m \u001b[0mb\u001b[0m\u001b[0;34m.\u001b[0m\u001b[0mreshape\u001b[0m\u001b[0;34m(\u001b[0m\u001b[0;36m7\u001b[0m \u001b[0;34m,\u001b[0m \u001b[0;34m-\u001b[0m\u001b[0;36m1\u001b[0m\u001b[0;34m)\u001b[0m\u001b[0;34m\u001b[0m\u001b[0;34m\u001b[0m\u001b[0m\n\u001b[0m",
            "\u001b[0;31mValueError\u001b[0m: cannot reshape array of size 16 into shape (7,newaxis)"
          ]
        }
      ]
    },
    {
      "cell_type": "code",
      "source": [
        "d = b.reshape(10 , -1)"
      ],
      "metadata": {
        "colab": {
          "base_uri": "https://localhost:8080/",
          "height": 179
        },
        "id": "VP5oJPdFCXMZ",
        "outputId": "5cf63732-6498-4d1c-bb96-16fba3d1ec6c"
      },
      "execution_count": 67,
      "outputs": [
        {
          "output_type": "error",
          "ename": "ValueError",
          "evalue": "ignored",
          "traceback": [
            "\u001b[0;31m---------------------------------------------------------------------------\u001b[0m",
            "\u001b[0;31mValueError\u001b[0m                                Traceback (most recent call last)",
            "\u001b[0;32m<ipython-input-67-e1b9d17038b1>\u001b[0m in \u001b[0;36m<cell line: 1>\u001b[0;34m()\u001b[0m\n\u001b[0;32m----> 1\u001b[0;31m \u001b[0md\u001b[0m \u001b[0;34m=\u001b[0m \u001b[0mb\u001b[0m\u001b[0;34m.\u001b[0m\u001b[0mreshape\u001b[0m\u001b[0;34m(\u001b[0m\u001b[0;36m10\u001b[0m \u001b[0;34m,\u001b[0m \u001b[0;34m-\u001b[0m\u001b[0;36m1\u001b[0m\u001b[0;34m)\u001b[0m\u001b[0;34m\u001b[0m\u001b[0;34m\u001b[0m\u001b[0m\n\u001b[0m",
            "\u001b[0;31mValueError\u001b[0m: cannot reshape array of size 16 into shape (10,newaxis)"
          ]
        }
      ]
    },
    {
      "cell_type": "code",
      "source": [
        "d = b.reshape(4,-1)\n",
        "print(d)"
      ],
      "metadata": {
        "colab": {
          "base_uri": "https://localhost:8080/"
        },
        "id": "M99h0fv8Cb4p",
        "outputId": "42de129d-dc8d-4bcc-d8d2-a6bf53ed6a48"
      },
      "execution_count": 68,
      "outputs": [
        {
          "output_type": "stream",
          "name": "stdout",
          "text": [
            "[[ 0  1  2  3]\n",
            " [ 4  5  6  7]\n",
            " [ 8  9 10 11]\n",
            " [12 13 14 15]]\n"
          ]
        }
      ]
    },
    {
      "cell_type": "code",
      "source": [
        "d = b.reshape(4,-5)\n",
        "print(d)"
      ],
      "metadata": {
        "colab": {
          "base_uri": "https://localhost:8080/"
        },
        "id": "aBPTTdh-Cjfo",
        "outputId": "6aaff758-e801-40d9-b38b-5b00584bf2e9"
      },
      "execution_count": 69,
      "outputs": [
        {
          "output_type": "stream",
          "name": "stdout",
          "text": [
            "[[ 0  1  2  3]\n",
            " [ 4  5  6  7]\n",
            " [ 8  9 10 11]\n",
            " [12 13 14 15]]\n"
          ]
        }
      ]
    },
    {
      "cell_type": "code",
      "source": [
        "d = b.reshape(-1, 4)\n",
        "print(d)"
      ],
      "metadata": {
        "colab": {
          "base_uri": "https://localhost:8080/"
        },
        "id": "wBwJERzOCnCs",
        "outputId": "879eb4a3-f1d9-4323-8f54-cbd6e2390f36"
      },
      "execution_count": 71,
      "outputs": [
        {
          "output_type": "stream",
          "name": "stdout",
          "text": [
            "[[ 0  1  2  3]\n",
            " [ 4  5  6  7]\n",
            " [ 8  9 10 11]\n",
            " [12 13 14 15]]\n"
          ]
        }
      ]
    },
    {
      "cell_type": "code",
      "source": [
        "d = b.reshape(-1, 8)\n",
        "print(d)"
      ],
      "metadata": {
        "colab": {
          "base_uri": "https://localhost:8080/"
        },
        "id": "BAu5nQ4MC5X7",
        "outputId": "005f06e4-65d8-4117-c5b7-e4f8f3b5c4df"
      },
      "execution_count": 72,
      "outputs": [
        {
          "output_type": "stream",
          "name": "stdout",
          "text": [
            "[[ 0  1  2  3  4  5  6  7]\n",
            " [ 8  9 10 11 12 13 14 15]]\n"
          ]
        }
      ]
    },
    {
      "cell_type": "code",
      "source": [
        "d.shape"
      ],
      "metadata": {
        "colab": {
          "base_uri": "https://localhost:8080/"
        },
        "id": "Js0EIAnbDBel",
        "outputId": "b9278271-1916-48d7-bbe8-e9d35e91c2ba"
      },
      "execution_count": 73,
      "outputs": [
        {
          "output_type": "execute_result",
          "data": {
            "text/plain": [
              "(2, 8)"
            ]
          },
          "metadata": {},
          "execution_count": 73
        }
      ]
    },
    {
      "cell_type": "code",
      "source": [
        "d = b.reshape(4,4)\n",
        "print(d)"
      ],
      "metadata": {
        "colab": {
          "base_uri": "https://localhost:8080/"
        },
        "id": "okO6H4apDGJa",
        "outputId": "dbfc78c0-d145-4d4d-b670-dac588ef973f"
      },
      "execution_count": 74,
      "outputs": [
        {
          "output_type": "stream",
          "name": "stdout",
          "text": [
            "[[ 0  1  2  3]\n",
            " [ 4  5  6  7]\n",
            " [ 8  9 10 11]\n",
            " [12 13 14 15]]\n"
          ]
        }
      ]
    },
    {
      "cell_type": "code",
      "source": [
        "print(d[0])"
      ],
      "metadata": {
        "colab": {
          "base_uri": "https://localhost:8080/"
        },
        "id": "m-vyED42DLpL",
        "outputId": "e9064324-3e9c-4879-d043-3e8c3d0bcec6"
      },
      "execution_count": 75,
      "outputs": [
        {
          "output_type": "stream",
          "name": "stdout",
          "text": [
            "[0 1 2 3]\n"
          ]
        }
      ]
    },
    {
      "cell_type": "code",
      "source": [
        "print(d[0][1])"
      ],
      "metadata": {
        "colab": {
          "base_uri": "https://localhost:8080/"
        },
        "id": "CjoiYeNGDdEf",
        "outputId": "a6cf3085-5f48-437d-e12f-37c0f83b7484"
      },
      "execution_count": 76,
      "outputs": [
        {
          "output_type": "stream",
          "name": "stdout",
          "text": [
            "1\n"
          ]
        }
      ]
    },
    {
      "cell_type": "code",
      "source": [
        "print(d[0 , 1])"
      ],
      "metadata": {
        "colab": {
          "base_uri": "https://localhost:8080/"
        },
        "id": "1ZCS35DsDlfT",
        "outputId": "7114213d-6895-4177-bf4b-0d4ec96fb99e"
      },
      "execution_count": 77,
      "outputs": [
        {
          "output_type": "stream",
          "name": "stdout",
          "text": [
            "1\n"
          ]
        }
      ]
    },
    {
      "cell_type": "code",
      "source": [
        "print(d[1, 3])"
      ],
      "metadata": {
        "colab": {
          "base_uri": "https://localhost:8080/"
        },
        "id": "Adw1_XAIDsex",
        "outputId": "92fef782-c2cd-4ad5-d8b3-e35eed873600"
      },
      "execution_count": 78,
      "outputs": [
        {
          "output_type": "stream",
          "name": "stdout",
          "text": [
            "7\n"
          ]
        }
      ]
    },
    {
      "cell_type": "code",
      "source": [
        "print(d)"
      ],
      "metadata": {
        "colab": {
          "base_uri": "https://localhost:8080/"
        },
        "id": "6zupB-_mDxZl",
        "outputId": "cfa3e91a-2869-4c85-c1bd-c3b489712e82"
      },
      "execution_count": 80,
      "outputs": [
        {
          "output_type": "stream",
          "name": "stdout",
          "text": [
            "[[ 0  1  2  3]\n",
            " [ 4  5  6  7]\n",
            " [ 8  9 10 11]\n",
            " [12 13 14 15]]\n"
          ]
        }
      ]
    },
    {
      "cell_type": "code",
      "source": [
        "print(d[2, 4])"
      ],
      "metadata": {
        "colab": {
          "base_uri": "https://localhost:8080/",
          "height": 179
        },
        "id": "FVRHoS2sDyWh",
        "outputId": "6ac44ee5-e4ed-4a3c-aec6-7955a4879809"
      },
      "execution_count": 81,
      "outputs": [
        {
          "output_type": "error",
          "ename": "IndexError",
          "evalue": "ignored",
          "traceback": [
            "\u001b[0;31m---------------------------------------------------------------------------\u001b[0m",
            "\u001b[0;31mIndexError\u001b[0m                                Traceback (most recent call last)",
            "\u001b[0;32m<ipython-input-81-269e5957bd37>\u001b[0m in \u001b[0;36m<cell line: 1>\u001b[0;34m()\u001b[0m\n\u001b[0;32m----> 1\u001b[0;31m \u001b[0mprint\u001b[0m\u001b[0;34m(\u001b[0m\u001b[0md\u001b[0m\u001b[0;34m[\u001b[0m\u001b[0;36m2\u001b[0m\u001b[0;34m,\u001b[0m \u001b[0;36m4\u001b[0m\u001b[0;34m]\u001b[0m\u001b[0;34m)\u001b[0m\u001b[0;34m\u001b[0m\u001b[0;34m\u001b[0m\u001b[0m\n\u001b[0m",
            "\u001b[0;31mIndexError\u001b[0m: index 4 is out of bounds for axis 1 with size 4"
          ]
        }
      ]
    },
    {
      "cell_type": "code",
      "source": [
        "a = np.arange(12).reshape(3,4)\n",
        "print(a)"
      ],
      "metadata": {
        "colab": {
          "base_uri": "https://localhost:8080/"
        },
        "id": "MWXqHr0YD3gb",
        "outputId": "88c78fca-b0dd-4070-b9c7-b0bfd914fe4d"
      },
      "execution_count": 82,
      "outputs": [
        {
          "output_type": "stream",
          "name": "stdout",
          "text": [
            "[[ 0  1  2  3]\n",
            " [ 4  5  6  7]\n",
            " [ 8  9 10 11]]\n"
          ]
        }
      ]
    },
    {
      "cell_type": "code",
      "source": [
        "b = np.array([ [1,2] , [3,4] ])\n",
        "print(b)"
      ],
      "metadata": {
        "colab": {
          "base_uri": "https://localhost:8080/"
        },
        "id": "C7ZQ5E7LEKGb",
        "outputId": "bc0ad501-9308-4d86-87a1-823639b304d8"
      },
      "execution_count": 84,
      "outputs": [
        {
          "output_type": "stream",
          "name": "stdout",
          "text": [
            "[[1 2]\n",
            " [3 4]]\n"
          ]
        }
      ]
    },
    {
      "cell_type": "code",
      "source": [
        "print(a)"
      ],
      "metadata": {
        "colab": {
          "base_uri": "https://localhost:8080/"
        },
        "id": "HoRY6gtqEZRY",
        "outputId": "6a6da7ef-abe0-445d-bc58-0a89b4fb6de2"
      },
      "execution_count": 85,
      "outputs": [
        {
          "output_type": "stream",
          "name": "stdout",
          "text": [
            "[[ 0  1  2  3]\n",
            " [ 4  5  6  7]\n",
            " [ 8  9 10 11]]\n"
          ]
        }
      ]
    },
    {
      "cell_type": "code",
      "source": [
        "a.ndim"
      ],
      "metadata": {
        "colab": {
          "base_uri": "https://localhost:8080/"
        },
        "id": "djkX2xQ0Ee6h",
        "outputId": "c98dee28-4149-4df2-9c81-461564a9a587"
      },
      "execution_count": 86,
      "outputs": [
        {
          "output_type": "execute_result",
          "data": {
            "text/plain": [
              "2"
            ]
          },
          "metadata": {},
          "execution_count": 86
        }
      ]
    },
    {
      "cell_type": "code",
      "source": [
        "a.shape"
      ],
      "metadata": {
        "colab": {
          "base_uri": "https://localhost:8080/"
        },
        "id": "Vf9Zi55tEjim",
        "outputId": "4e2c2ef7-3ee5-4fcd-940b-85151b42e37d"
      },
      "execution_count": 87,
      "outputs": [
        {
          "output_type": "execute_result",
          "data": {
            "text/plain": [
              "(3, 4)"
            ]
          },
          "metadata": {},
          "execution_count": 87
        }
      ]
    },
    {
      "cell_type": "code",
      "source": [
        "b = a.T\n",
        "print(b)"
      ],
      "metadata": {
        "colab": {
          "base_uri": "https://localhost:8080/"
        },
        "id": "qZkPYbbmEnEr",
        "outputId": "aa6cfad9-9ee4-48a4-dda5-222813f2540e"
      },
      "execution_count": 88,
      "outputs": [
        {
          "output_type": "stream",
          "name": "stdout",
          "text": [
            "[[ 0  4  8]\n",
            " [ 1  5  9]\n",
            " [ 2  6 10]\n",
            " [ 3  7 11]]\n"
          ]
        }
      ]
    },
    {
      "cell_type": "code",
      "source": [
        "b.shape"
      ],
      "metadata": {
        "colab": {
          "base_uri": "https://localhost:8080/"
        },
        "id": "szH8JNtOEzDK",
        "outputId": "c4335deb-4dd3-419f-ce01-8f44a69fce64"
      },
      "execution_count": 89,
      "outputs": [
        {
          "output_type": "execute_result",
          "data": {
            "text/plain": [
              "(4, 3)"
            ]
          },
          "metadata": {},
          "execution_count": 89
        }
      ]
    },
    {
      "cell_type": "code",
      "source": [
        "a = np.arange(1, 10, 2)\n",
        "print(a)"
      ],
      "metadata": {
        "colab": {
          "base_uri": "https://localhost:8080/"
        },
        "id": "xJqkq30pFFLD",
        "outputId": "e7371fbe-56db-4bcf-e77c-3f8799cf6aae"
      },
      "execution_count": 90,
      "outputs": [
        {
          "output_type": "stream",
          "name": "stdout",
          "text": [
            "[1 3 5 7 9]\n"
          ]
        }
      ]
    },
    {
      "cell_type": "code",
      "source": [
        "m1  = np.arange(1,10).reshape(3,3)\n",
        "print(m1)"
      ],
      "metadata": {
        "colab": {
          "base_uri": "https://localhost:8080/"
        },
        "id": "n_cqm1ezFL7C",
        "outputId": "d558de42-bb2f-45aa-9ca0-85c9f3999ac5"
      },
      "execution_count": 91,
      "outputs": [
        {
          "output_type": "stream",
          "name": "stdout",
          "text": [
            "[[1 2 3]\n",
            " [4 5 6]\n",
            " [7 8 9]]\n"
          ]
        }
      ]
    },
    {
      "cell_type": "code",
      "source": [
        "#multi-indexing for 1D\n",
        "a = np.arange(2, 10)\n",
        "print(a)"
      ],
      "metadata": {
        "colab": {
          "base_uri": "https://localhost:8080/"
        },
        "id": "qXWEsVF-FaPR",
        "outputId": "ff44a5b6-073f-4d07-b512-0da94a83b832"
      },
      "execution_count": 92,
      "outputs": [
        {
          "output_type": "stream",
          "name": "stdout",
          "text": [
            "[2 3 4 5 6 7 8 9]\n"
          ]
        }
      ]
    },
    {
      "cell_type": "code",
      "source": [
        "print(a[ [3, 5, 7] ]) #multi-indexing"
      ],
      "metadata": {
        "colab": {
          "base_uri": "https://localhost:8080/"
        },
        "id": "lJInip70Fh9r",
        "outputId": "573ede6d-02d8-49a2-dd1a-dde44d5afd11"
      },
      "execution_count": 93,
      "outputs": [
        {
          "output_type": "stream",
          "name": "stdout",
          "text": [
            "[5 7 9]\n"
          ]
        }
      ]
    },
    {
      "cell_type": "code",
      "source": [
        "m1  = np.arange(9).reshape(3,3)\n",
        "print(m1)"
      ],
      "metadata": {
        "colab": {
          "base_uri": "https://localhost:8080/"
        },
        "id": "9osuJ8SmFss8",
        "outputId": "33870e78-1ea9-4bdf-bdd4-4101e4e959e4"
      },
      "execution_count": 94,
      "outputs": [
        {
          "output_type": "stream",
          "name": "stdout",
          "text": [
            "[[0 1 2]\n",
            " [3 4 5]\n",
            " [6 7 8]]\n"
          ]
        }
      ]
    },
    {
      "cell_type": "code",
      "source": [
        "print(m1[ [0,1,2] , [0,1,2] ])"
      ],
      "metadata": {
        "colab": {
          "base_uri": "https://localhost:8080/"
        },
        "id": "dTCy8bcTF6Zr",
        "outputId": "f07bae0c-6c12-47a4-bead-a83e7c968150"
      },
      "execution_count": 95,
      "outputs": [
        {
          "output_type": "stream",
          "name": "stdout",
          "text": [
            "[0 4 8]\n"
          ]
        }
      ]
    },
    {
      "cell_type": "code",
      "source": [
        "print(m1[ [0,1,2] , [2, 0, 1] ])"
      ],
      "metadata": {
        "colab": {
          "base_uri": "https://localhost:8080/"
        },
        "id": "8rdwY5EfGeW0",
        "outputId": "e0f8de0a-cd31-4cae-b302-6a9bb0fdbabd"
      },
      "execution_count": 96,
      "outputs": [
        {
          "output_type": "stream",
          "name": "stdout",
          "text": [
            "[2 3 7]\n"
          ]
        }
      ]
    },
    {
      "cell_type": "code",
      "source": [
        "print(m1[ [2,1,2] , [2, 0, 1] ])"
      ],
      "metadata": {
        "colab": {
          "base_uri": "https://localhost:8080/"
        },
        "id": "AWxnCHCtGyCs",
        "outputId": "16c05226-fd4c-4ba2-ed3d-b6be3e8e3977"
      },
      "execution_count": 97,
      "outputs": [
        {
          "output_type": "stream",
          "name": "stdout",
          "text": [
            "[8 3 7]\n"
          ]
        }
      ]
    },
    {
      "cell_type": "code",
      "source": [
        "#slicing"
      ],
      "metadata": {
        "id": "qGE8UrKoG9l5"
      },
      "execution_count": 98,
      "outputs": []
    },
    {
      "cell_type": "code",
      "source": [
        "print(a)"
      ],
      "metadata": {
        "colab": {
          "base_uri": "https://localhost:8080/"
        },
        "id": "x3spKHecHCI6",
        "outputId": "8116ce3e-8004-4902-de92-ef92debb8839"
      },
      "execution_count": 99,
      "outputs": [
        {
          "output_type": "stream",
          "name": "stdout",
          "text": [
            "[2 3 4 5 6 7 8 9]\n"
          ]
        }
      ]
    },
    {
      "cell_type": "code",
      "source": [
        "a = np.arange(12).reshape(3,4)"
      ],
      "metadata": {
        "id": "ei1RmSPUHDSp"
      },
      "execution_count": 100,
      "outputs": []
    },
    {
      "cell_type": "code",
      "source": [
        "print(a)"
      ],
      "metadata": {
        "colab": {
          "base_uri": "https://localhost:8080/"
        },
        "id": "bcywBg6BHGvC",
        "outputId": "d47c700a-7004-4269-d8aa-bf9e3e1f0b1e"
      },
      "execution_count": 101,
      "outputs": [
        {
          "output_type": "stream",
          "name": "stdout",
          "text": [
            "[[ 0  1  2  3]\n",
            " [ 4  5  6  7]\n",
            " [ 8  9 10 11]]\n"
          ]
        }
      ]
    },
    {
      "cell_type": "code",
      "source": [
        "print(a[0:2])"
      ],
      "metadata": {
        "colab": {
          "base_uri": "https://localhost:8080/"
        },
        "id": "wpYwY-LYHHQs",
        "outputId": "0c8fe981-5ee8-4cef-830c-4e59c0757d3a"
      },
      "execution_count": 102,
      "outputs": [
        {
          "output_type": "stream",
          "name": "stdout",
          "text": [
            "[[0 1 2 3]\n",
            " [4 5 6 7]]\n"
          ]
        }
      ]
    },
    {
      "cell_type": "code",
      "source": [
        "print(a[0])"
      ],
      "metadata": {
        "colab": {
          "base_uri": "https://localhost:8080/"
        },
        "id": "-Re6h6z7HQXj",
        "outputId": "ff9af1f5-0950-43e6-90c9-37597950cd52"
      },
      "execution_count": 103,
      "outputs": [
        {
          "output_type": "stream",
          "name": "stdout",
          "text": [
            "[0 1 2 3]\n"
          ]
        }
      ]
    },
    {
      "cell_type": "code",
      "source": [
        "print(a[:, 0:2])"
      ],
      "metadata": {
        "colab": {
          "base_uri": "https://localhost:8080/"
        },
        "id": "FTsGKns9HTAi",
        "outputId": "4411e676-e5b3-4f79-e305-ac5d9d4bc313"
      },
      "execution_count": 104,
      "outputs": [
        {
          "output_type": "stream",
          "name": "stdout",
          "text": [
            "[[0 1]\n",
            " [4 5]\n",
            " [8 9]]\n"
          ]
        }
      ]
    },
    {
      "cell_type": "code",
      "source": [
        "print(a[:, 1:3])"
      ],
      "metadata": {
        "colab": {
          "base_uri": "https://localhost:8080/"
        },
        "id": "k7pxoxdnHbvo",
        "outputId": "9d717b9b-6b30-4554-f818-dda2bb793499"
      },
      "execution_count": 105,
      "outputs": [
        {
          "output_type": "stream",
          "name": "stdout",
          "text": [
            "[[ 1  2]\n",
            " [ 5  6]\n",
            " [ 9 10]]\n"
          ]
        }
      ]
    },
    {
      "cell_type": "code",
      "source": [
        "print(a)"
      ],
      "metadata": {
        "colab": {
          "base_uri": "https://localhost:8080/"
        },
        "id": "wLplAhxvHqQC",
        "outputId": "37a583da-e1c5-4e0b-eb7b-1b70437ca765"
      },
      "execution_count": 106,
      "outputs": [
        {
          "output_type": "stream",
          "name": "stdout",
          "text": [
            "[[ 0  1  2  3]\n",
            " [ 4  5  6  7]\n",
            " [ 8  9 10 11]]\n"
          ]
        }
      ]
    },
    {
      "cell_type": "code",
      "source": [
        "print(a[0:2, 1:3])"
      ],
      "metadata": {
        "colab": {
          "base_uri": "https://localhost:8080/"
        },
        "id": "JGwnTrz3HwFy",
        "outputId": "e6c96340-236c-4357-8150-820af983588d"
      },
      "execution_count": 107,
      "outputs": [
        {
          "output_type": "stream",
          "name": "stdout",
          "text": [
            "[[1 2]\n",
            " [5 6]]\n"
          ]
        }
      ]
    },
    {
      "cell_type": "code",
      "source": [
        "print(a[1:2, 0:2])"
      ],
      "metadata": {
        "colab": {
          "base_uri": "https://localhost:8080/"
        },
        "id": "toYkuu0KH9oZ",
        "outputId": "59182a7f-de86-4015-89a9-919f99bb72ad"
      },
      "execution_count": 108,
      "outputs": [
        {
          "output_type": "stream",
          "name": "stdout",
          "text": [
            "[[4 5]]\n"
          ]
        }
      ]
    },
    {
      "cell_type": "code",
      "source": [
        "print(a)"
      ],
      "metadata": {
        "colab": {
          "base_uri": "https://localhost:8080/"
        },
        "id": "koDcFDumINyl",
        "outputId": "c7067dcc-f275-44ac-af61-26a1572e1965"
      },
      "execution_count": 109,
      "outputs": [
        {
          "output_type": "stream",
          "name": "stdout",
          "text": [
            "[[ 0  1  2  3]\n",
            " [ 4  5  6  7]\n",
            " [ 8  9 10 11]]\n"
          ]
        }
      ]
    },
    {
      "cell_type": "code",
      "source": [
        "print(a<6)"
      ],
      "metadata": {
        "colab": {
          "base_uri": "https://localhost:8080/"
        },
        "id": "HERUhwY9IeFh",
        "outputId": "dc8ca6d9-2c30-43b2-8d00-68c769a565a2"
      },
      "execution_count": 110,
      "outputs": [
        {
          "output_type": "stream",
          "name": "stdout",
          "text": [
            "[[ True  True  True  True]\n",
            " [ True  True False False]\n",
            " [False False False False]]\n"
          ]
        }
      ]
    },
    {
      "cell_type": "code",
      "source": [
        "print(a[ a< 6]) #masking wil result in 1D np array"
      ],
      "metadata": {
        "colab": {
          "base_uri": "https://localhost:8080/"
        },
        "id": "NnrrMgt_IjKI",
        "outputId": "6005a6ae-bb5d-46ad-b73d-6127004fa69a"
      },
      "execution_count": 112,
      "outputs": [
        {
          "output_type": "stream",
          "name": "stdout",
          "text": [
            "[0 1 2 3 4 5]\n"
          ]
        }
      ]
    },
    {
      "cell_type": "code",
      "source": [
        "a = np.arange(3)\n",
        "print(a)"
      ],
      "metadata": {
        "colab": {
          "base_uri": "https://localhost:8080/"
        },
        "id": "lmeX-O92Iy0W",
        "outputId": "283537e7-6235-417c-9930-3094b3e0f2c5"
      },
      "execution_count": 113,
      "outputs": [
        {
          "output_type": "stream",
          "name": "stdout",
          "text": [
            "[0 1 2]\n"
          ]
        }
      ]
    },
    {
      "cell_type": "code",
      "source": [
        "np.sum(a)"
      ],
      "metadata": {
        "colab": {
          "base_uri": "https://localhost:8080/"
        },
        "id": "S2S1iSPbJHXp",
        "outputId": "d261b73c-6894-47c6-9b39-4b30c5acd19f"
      },
      "execution_count": 114,
      "outputs": [
        {
          "output_type": "execute_result",
          "data": {
            "text/plain": [
              "3"
            ]
          },
          "metadata": {},
          "execution_count": 114
        }
      ]
    },
    {
      "cell_type": "code",
      "source": [
        "np.mean(a)"
      ],
      "metadata": {
        "colab": {
          "base_uri": "https://localhost:8080/"
        },
        "id": "HI0eFBCUJMeE",
        "outputId": "1ba87b8a-7923-4cd9-e9c1-19dc79115a1d"
      },
      "execution_count": 115,
      "outputs": [
        {
          "output_type": "execute_result",
          "data": {
            "text/plain": [
              "1.0"
            ]
          },
          "metadata": {},
          "execution_count": 115
        }
      ]
    },
    {
      "cell_type": "code",
      "source": [
        "np.min(a)"
      ],
      "metadata": {
        "colab": {
          "base_uri": "https://localhost:8080/"
        },
        "id": "AUHghB3FJXte",
        "outputId": "3f2bb53c-abe9-4c5e-8814-333a3a552d34"
      },
      "execution_count": 116,
      "outputs": [
        {
          "output_type": "execute_result",
          "data": {
            "text/plain": [
              "0"
            ]
          },
          "metadata": {},
          "execution_count": 116
        }
      ]
    },
    {
      "cell_type": "code",
      "source": [
        "np.max(a)"
      ],
      "metadata": {
        "colab": {
          "base_uri": "https://localhost:8080/"
        },
        "id": "SHBWUjD8JjeL",
        "outputId": "5d2cf2e5-ff7c-45bd-8216-19df97785745"
      },
      "execution_count": 117,
      "outputs": [
        {
          "output_type": "execute_result",
          "data": {
            "text/plain": [
              "2"
            ]
          },
          "metadata": {},
          "execution_count": 117
        }
      ]
    },
    {
      "cell_type": "code",
      "source": [
        "type(a)"
      ],
      "metadata": {
        "colab": {
          "base_uri": "https://localhost:8080/"
        },
        "id": "Apkid05ZJmEU",
        "outputId": "633dd18d-5ed3-4ed3-e31f-470049d2d16c"
      },
      "execution_count": 118,
      "outputs": [
        {
          "output_type": "execute_result",
          "data": {
            "text/plain": [
              "numpy.ndarray"
            ]
          },
          "metadata": {},
          "execution_count": 118
        }
      ]
    },
    {
      "cell_type": "code",
      "source": [
        "a.sum()"
      ],
      "metadata": {
        "colab": {
          "base_uri": "https://localhost:8080/"
        },
        "id": "vW5NErO2Johj",
        "outputId": "7ea59826-8752-43c6-be40-5d29ab05ddc3"
      },
      "execution_count": 119,
      "outputs": [
        {
          "output_type": "execute_result",
          "data": {
            "text/plain": [
              "3"
            ]
          },
          "metadata": {},
          "execution_count": 119
        }
      ]
    },
    {
      "cell_type": "code",
      "source": [
        "a.min()"
      ],
      "metadata": {
        "colab": {
          "base_uri": "https://localhost:8080/"
        },
        "id": "yD68C5BsJsB-",
        "outputId": "9f370f15-6bbc-4dfb-ec0b-774b9165ec3a"
      },
      "execution_count": 120,
      "outputs": [
        {
          "output_type": "execute_result",
          "data": {
            "text/plain": [
              "0"
            ]
          },
          "metadata": {},
          "execution_count": 120
        }
      ]
    },
    {
      "cell_type": "code",
      "source": [
        "a = np.arange(12).reshape(3,4)\n",
        "print(a)"
      ],
      "metadata": {
        "colab": {
          "base_uri": "https://localhost:8080/"
        },
        "id": "bPktWZ8zJyg5",
        "outputId": "a3d961b1-9db0-4ccd-bf93-8f3b1bf7a717"
      },
      "execution_count": 121,
      "outputs": [
        {
          "output_type": "stream",
          "name": "stdout",
          "text": [
            "[[ 0  1  2  3]\n",
            " [ 4  5  6  7]\n",
            " [ 8  9 10 11]]\n"
          ]
        }
      ]
    },
    {
      "cell_type": "code",
      "source": [
        "np.sum(a)"
      ],
      "metadata": {
        "colab": {
          "base_uri": "https://localhost:8080/"
        },
        "id": "xT16kHt6J6zt",
        "outputId": "817c1007-ac7c-41d1-94ca-2cb342154bd5"
      },
      "execution_count": 122,
      "outputs": [
        {
          "output_type": "execute_result",
          "data": {
            "text/plain": [
              "66"
            ]
          },
          "metadata": {},
          "execution_count": 122
        }
      ]
    },
    {
      "cell_type": "code",
      "source": [
        "np.sum(a, axis = 1) #row-wise sum"
      ],
      "metadata": {
        "colab": {
          "base_uri": "https://localhost:8080/"
        },
        "id": "JxxI-0S0J_pp",
        "outputId": "b798431f-ef5f-4661-d13f-dc46add93870"
      },
      "execution_count": 123,
      "outputs": [
        {
          "output_type": "execute_result",
          "data": {
            "text/plain": [
              "array([ 6, 22, 38])"
            ]
          },
          "metadata": {},
          "execution_count": 123
        }
      ]
    },
    {
      "cell_type": "code",
      "source": [
        "a.sum(axis = 1)"
      ],
      "metadata": {
        "colab": {
          "base_uri": "https://localhost:8080/"
        },
        "id": "AgLAXcLKKmNR",
        "outputId": "517d6033-093a-4ea3-8be9-066182c4bed3"
      },
      "execution_count": 124,
      "outputs": [
        {
          "output_type": "execute_result",
          "data": {
            "text/plain": [
              "array([ 6, 22, 38])"
            ]
          },
          "metadata": {},
          "execution_count": 124
        }
      ]
    },
    {
      "cell_type": "code",
      "source": [
        "np.sum(a, axis = 0) #col-wise sum"
      ],
      "metadata": {
        "colab": {
          "base_uri": "https://localhost:8080/"
        },
        "id": "2znl1bXZKvXe",
        "outputId": "65c8fcfb-2358-4633-e1a2-fd310ea72ce3"
      },
      "execution_count": 125,
      "outputs": [
        {
          "output_type": "execute_result",
          "data": {
            "text/plain": [
              "array([12, 15, 18, 21])"
            ]
          },
          "metadata": {},
          "execution_count": 125
        }
      ]
    },
    {
      "cell_type": "code",
      "source": [
        "#axis = 0--> peform this operation column-wise\n",
        "#axis = 1--> perform this operation row-wise"
      ],
      "metadata": {
        "id": "VOFpR0hvK_ku"
      },
      "execution_count": null,
      "outputs": []
    },
    {
      "cell_type": "code",
      "source": [
        "a = np.array([1, 2, 3, 4])\n",
        "b = np.array([4, 3, 2, 1])"
      ],
      "metadata": {
        "id": "zxcfvnRGLObY"
      },
      "execution_count": 126,
      "outputs": []
    },
    {
      "cell_type": "code",
      "source": [
        "print(a)"
      ],
      "metadata": {
        "colab": {
          "base_uri": "https://localhost:8080/"
        },
        "id": "2LKeGTWILRCS",
        "outputId": "997df773-2a79-4b01-e93c-b379cccb430c"
      },
      "execution_count": 127,
      "outputs": [
        {
          "output_type": "stream",
          "name": "stdout",
          "text": [
            "[1 2 3 4]\n"
          ]
        }
      ]
    },
    {
      "cell_type": "code",
      "source": [
        "print(b)"
      ],
      "metadata": {
        "colab": {
          "base_uri": "https://localhost:8080/"
        },
        "id": "qwViNxa3LaPQ",
        "outputId": "917d712b-0b2b-47b2-97be-555e0f39146f"
      },
      "execution_count": 128,
      "outputs": [
        {
          "output_type": "stream",
          "name": "stdout",
          "text": [
            "[4 3 2 1]\n"
          ]
        }
      ]
    },
    {
      "cell_type": "code",
      "source": [
        "a < b"
      ],
      "metadata": {
        "colab": {
          "base_uri": "https://localhost:8080/"
        },
        "id": "iEOyWDW9LasP",
        "outputId": "1dbf4b92-ecf2-4743-bbaf-73b491ae439f"
      },
      "execution_count": 129,
      "outputs": [
        {
          "output_type": "execute_result",
          "data": {
            "text/plain": [
              "array([ True,  True, False, False])"
            ]
          },
          "metadata": {},
          "execution_count": 129
        }
      ]
    },
    {
      "cell_type": "code",
      "source": [
        "np.any(a<b)"
      ],
      "metadata": {
        "colab": {
          "base_uri": "https://localhost:8080/"
        },
        "id": "IT1eawHILggL",
        "outputId": "735178a8-0014-49de-b6b3-d0e712580355"
      },
      "execution_count": 130,
      "outputs": [
        {
          "output_type": "execute_result",
          "data": {
            "text/plain": [
              "True"
            ]
          },
          "metadata": {},
          "execution_count": 130
        }
      ]
    },
    {
      "cell_type": "code",
      "source": [
        "np.all(a < b)"
      ],
      "metadata": {
        "colab": {
          "base_uri": "https://localhost:8080/"
        },
        "id": "Ll4mWlyVLsH7",
        "outputId": "3e3f8cf1-ad63-419f-ff40-1a5a5e03d024"
      },
      "execution_count": 131,
      "outputs": [
        {
          "output_type": "execute_result",
          "data": {
            "text/plain": [
              "False"
            ]
          },
          "metadata": {},
          "execution_count": 131
        }
      ]
    },
    {
      "cell_type": "code",
      "source": [
        "a = np.array([4,5,6,7])\n",
        "b = np.array([4,3,2,1])\n",
        "np.all(a >= b)"
      ],
      "metadata": {
        "colab": {
          "base_uri": "https://localhost:8080/"
        },
        "id": "ghEJRoyxL23j",
        "outputId": "0d23d835-e06c-4eba-a8ce-e86f3a532b9e"
      },
      "execution_count": 134,
      "outputs": [
        {
          "output_type": "execute_result",
          "data": {
            "text/plain": [
              "True"
            ]
          },
          "metadata": {},
          "execution_count": 134
        }
      ]
    },
    {
      "cell_type": "code",
      "source": [
        "a = np.array([4,5,6,7])\n",
        "b = np.array([4,3,2,1])\n",
        "a >= b"
      ],
      "metadata": {
        "colab": {
          "base_uri": "https://localhost:8080/"
        },
        "id": "77BGvWyyMKKS",
        "outputId": "5b07d3b7-15a9-4e49-8f7d-09fe3dc28f1c"
      },
      "execution_count": 133,
      "outputs": [
        {
          "output_type": "execute_result",
          "data": {
            "text/plain": [
              "array([ True,  True,  True,  True])"
            ]
          },
          "metadata": {},
          "execution_count": 133
        }
      ]
    },
    {
      "cell_type": "code",
      "source": [
        "a = np.array([-3,4,27,34,-2, 0, -45,-11,4, 0 ])"
      ],
      "metadata": {
        "id": "S-_eDCy9MK17"
      },
      "execution_count": 135,
      "outputs": []
    },
    {
      "cell_type": "code",
      "source": [
        "print(a)"
      ],
      "metadata": {
        "colab": {
          "base_uri": "https://localhost:8080/"
        },
        "id": "18LuSaliMWkI",
        "outputId": "bad962c2-5cfd-4a51-c1c5-93152c6366f7"
      },
      "execution_count": 136,
      "outputs": [
        {
          "output_type": "stream",
          "name": "stdout",
          "text": [
            "[ -3   4  27  34  -2   0 -45 -11   4   0]\n"
          ]
        }
      ]
    },
    {
      "cell_type": "code",
      "source": [
        "b = np.where(a >=0, \"pos\", \"neg\")"
      ],
      "metadata": {
        "id": "_lJtPiz0MXKJ"
      },
      "execution_count": 137,
      "outputs": []
    },
    {
      "cell_type": "code",
      "source": [
        "print(b)"
      ],
      "metadata": {
        "colab": {
          "base_uri": "https://localhost:8080/"
        },
        "id": "C4elboc7MjsM",
        "outputId": "3ae370ca-a733-4860-9d06-2934634eb1e4"
      },
      "execution_count": 138,
      "outputs": [
        {
          "output_type": "stream",
          "name": "stdout",
          "text": [
            "['neg' 'pos' 'pos' 'pos' 'neg' 'pos' 'neg' 'neg' 'pos' 'pos']\n"
          ]
        }
      ]
    },
    {
      "cell_type": "code",
      "source": [
        "#give me a np array where 1 is for pos or 0, and -1 is for neg numbers - HW"
      ],
      "metadata": {
        "id": "m5gQ_KaiMkUc"
      },
      "execution_count": 139,
      "outputs": []
    },
    {
      "cell_type": "code",
      "source": [],
      "metadata": {
        "id": "5IFdC6nTMzcl"
      },
      "execution_count": null,
      "outputs": []
    }
  ]
}